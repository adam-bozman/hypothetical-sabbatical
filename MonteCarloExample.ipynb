{
  "nbformat": 4,
  "nbformat_minor": 0,
  "metadata": {
    "colab": {
      "name": "MonteCarloExample.ipynb",
      "provenance": [],
      "authorship_tag": "ABX9TyMtVS6a4mIiZTgrXPWIVX9m",
      "include_colab_link": true
    },
    "kernelspec": {
      "name": "python3",
      "display_name": "Python 3"
    },
    "language_info": {
      "name": "python"
    }
  },
  "cells": [
    {
      "cell_type": "markdown",
      "metadata": {
        "id": "view-in-github",
        "colab_type": "text"
      },
      "source": [
        "<a href=\"https://colab.research.google.com/github/adam-bozman/hypothetical-sabbatical/blob/main/MonteCarloExample.ipynb\" target=\"_parent\"><img src=\"https://colab.research.google.com/assets/colab-badge.svg\" alt=\"Open In Colab\"/></a>"
      ]
    },
    {
      "cell_type": "markdown",
      "source": [
        "#This is a simple example of a Monte Carlo Simulation in Python."
      ],
      "metadata": {
        "id": "qlbm5tAKXMK2"
      }
    },
    {
      "cell_type": "code",
      "source": [
        "import pandas as pd\n",
        "import numpy as np\n",
        "import scipy as sp\n",
        "import numpy.random as npr\n",
        "import pandas_datareader as pdr\n",
        "import seaborn\n",
        "seaborn.set()\n",
        "import matplotlib.pyplot as plt\n",
        "%matplotlib\n"
      ],
      "metadata": {
        "colab": {
          "base_uri": "https://localhost:8080/"
        },
        "id": "Fp1RU28baSTZ",
        "outputId": "04741985-1a59-4241-f367-dd18a7ed7d02"
      },
      "execution_count": 24,
      "outputs": [
        {
          "output_type": "stream",
          "name": "stdout",
          "text": [
            "Using matplotlib backend: agg\n"
          ]
        }
      ]
    },
    {
      "cell_type": "code",
      "execution_count": 25,
      "metadata": {
        "id": "BEgat1PVXIX7"
      },
      "outputs": [],
      "source": [
        "#Suppose you have an IRA currently valued at $100,000 invested in the S&P\n",
        "#How much should you expect in your retirement account?\n",
        "\n",
        "pv = 100000\n",
        "er = .095\n",
        "time_horizon = 30\n",
        "ending_balance = 0"
      ]
    },
    {
      "cell_type": "code",
      "source": [
        "#deterministic method\n",
        "print(\"{:10s} {:15s}\".format(\"Year\", \"Ending Balance\"))\n",
        "print(\"-\"*26)\n",
        "for year in range(1, time_horizon + 1):\n",
        "  ending_balance = pv * (1 + er)\n",
        "  print(\"{:<10d} {:15,.0f}\".format(year, ending_balance))\n",
        "  pv = ending_balance"
      ],
      "metadata": {
        "colab": {
          "base_uri": "https://localhost:8080/"
        },
        "id": "DY7BijjSXu_F",
        "outputId": "d8de9d83-57a8-4b9a-d64e-965de6b86134"
      },
      "execution_count": 26,
      "outputs": [
        {
          "output_type": "stream",
          "name": "stdout",
          "text": [
            "Year       Ending Balance \n",
            "--------------------------\n",
            "1                  109,500\n",
            "2                  119,902\n",
            "3                  131,293\n",
            "4                  143,766\n",
            "5                  157,424\n",
            "6                  172,379\n",
            "7                  188,755\n",
            "8                  206,687\n",
            "9                  226,322\n",
            "10                 247,823\n",
            "11                 271,366\n",
            "12                 297,146\n",
            "13                 325,375\n",
            "14                 356,285\n",
            "15                 390,132\n",
            "16                 427,195\n",
            "17                 467,778\n",
            "18                 512,217\n",
            "19                 560,878\n",
            "20                 614,161\n",
            "21                 672,507\n",
            "22                 736,395\n",
            "23                 806,352\n",
            "24                 882,956\n",
            "25                 966,836\n",
            "26               1,058,686\n",
            "27               1,159,261\n",
            "28               1,269,391\n",
            "29               1,389,983\n",
            "30               1,522,031\n"
          ]
        }
      ]
    },
    {
      "cell_type": "code",
      "source": [
        "pv = 100000\n",
        "er = .095\n",
        "time_horizon = 30\n",
        "ending_balance = 0\n",
        "volatility = .185\n",
        "\n",
        "print(\"{:10s} {:15s}\".format(\"Year\", \"Ending Balance\"))\n",
        "print(\"-\"*26)\n",
        "for year in range(1, time_horizon + 1):\n",
        "  year_return = npr.normal(er, volatility)\n",
        "  ending_balance = pv * (1 + er)\n",
        "  print(\"{:<10d} {:15,.0f}\".format(year, ending_balance))\n",
        "  pv = ending_balance"
      ],
      "metadata": {
        "colab": {
          "base_uri": "https://localhost:8080/"
        },
        "id": "v_IYMLm6Y2mx",
        "outputId": "cff621da-7c3b-4b34-8cce-e42094b40857"
      },
      "execution_count": 40,
      "outputs": [
        {
          "output_type": "stream",
          "name": "stdout",
          "text": [
            "Year       Ending Balance \n",
            "--------------------------\n",
            "1                  109,500\n",
            "2                  119,902\n",
            "3                  131,293\n",
            "4                  143,766\n",
            "5                  157,424\n",
            "6                  172,379\n",
            "7                  188,755\n",
            "8                  206,687\n",
            "9                  226,322\n",
            "10                 247,823\n",
            "11                 271,366\n",
            "12                 297,146\n",
            "13                 325,375\n",
            "14                 356,285\n",
            "15                 390,132\n",
            "16                 427,195\n",
            "17                 467,778\n",
            "18                 512,217\n",
            "19                 560,878\n",
            "20                 614,161\n",
            "21                 672,507\n",
            "22                 736,395\n",
            "23                 806,352\n",
            "24                 882,956\n",
            "25                 966,836\n",
            "26               1,058,686\n",
            "27               1,159,261\n",
            "28               1,269,391\n",
            "29               1,389,983\n",
            "30               1,522,031\n"
          ]
        }
      ]
    },
    {
      "cell_type": "code",
      "source": [
        "#incorporate volatility (higher to help incorporate inflation)\n",
        "# volatility = .185"
      ],
      "metadata": {
        "id": "zXadDeSrYjWH"
      },
      "execution_count": 41,
      "outputs": []
    },
    {
      "cell_type": "code",
      "source": [
        "exp_return = .095\n",
        "sd = .185\n",
        "horizon = 30\n",
        "iterations = 50000\n",
        "starting = 100000\n",
        "ending = 0"
      ],
      "metadata": {
        "id": "Rn55i4tJcnFx"
      },
      "execution_count": 42,
      "outputs": []
    },
    {
      "cell_type": "code",
      "source": [
        "returns = np.zeros((iterations, horizon))\n",
        "for t in range(iterations):\n",
        "  for year in range (horizon):\n",
        "    returns[t][year] = npr.normal(exp_return, sd)\n",
        "returns[2]"
      ],
      "metadata": {
        "colab": {
          "base_uri": "https://localhost:8080/"
        },
        "id": "jhT0JZ2HcyM0",
        "outputId": "1dcca1d5-26aa-49b6-b2fe-14ed082fc83a"
      },
      "execution_count": 43,
      "outputs": [
        {
          "output_type": "execute_result",
          "data": {
            "text/plain": [
              "array([ 1.49805258e-01, -8.86842362e-05,  2.33749017e-01,  4.22353406e-01,\n",
              "       -9.67942365e-02, -5.07780753e-02, -1.43406596e-01,  1.61542337e-01,\n",
              "       -1.69949005e-01,  6.82227535e-02,  2.86896431e-01, -1.10182245e-01,\n",
              "        8.25887271e-02, -7.74299702e-02,  7.38687755e-02,  1.22682150e-01,\n",
              "       -5.80077036e-02,  2.55936490e-01,  1.42737044e-01,  2.71899082e-01,\n",
              "        6.23484346e-02,  3.82683651e-02,  5.11578894e-02,  3.68002495e-02,\n",
              "        2.00320873e-02,  2.12877283e-01,  2.05448942e-01,  1.11251799e-01,\n",
              "        1.83445067e-01,  2.71188860e-01])"
            ]
          },
          "metadata": {},
          "execution_count": 43
        }
      ]
    },
    {
      "cell_type": "code",
      "source": [
        "portfolio = np.zeros((iterations, horizon))\n",
        "for iteration in range(iterations):\n",
        "  starting = 100000\n",
        "  for year in range (horizon):\n",
        "    ending = starting * (1 + returns[iteration,year])\n",
        "    portfolio[iteration,year] = ending\n",
        "    starting = ending"
      ],
      "metadata": {
        "id": "OFf66VHMdXop"
      },
      "execution_count": 44,
      "outputs": []
    },
    {
      "cell_type": "code",
      "source": [
        "portfolio[300]"
      ],
      "metadata": {
        "colab": {
          "base_uri": "https://localhost:8080/"
        },
        "id": "ecHbYCPDd5eW",
        "outputId": "182cc837-f55a-4860-9095-26506d1f38e7"
      },
      "execution_count": 45,
      "outputs": [
        {
          "output_type": "execute_result",
          "data": {
            "text/plain": [
              "array([127267.19698276, 183984.1746682 , 239055.89681378, 319384.82709056,\n",
              "       358270.61393656, 414830.52127353, 287748.17653749, 269153.46665801,\n",
              "       260230.01650377, 181894.45016577, 167775.23058503, 223022.84861225,\n",
              "       238920.43821078, 278415.83575794, 337149.56452872, 358653.25975672,\n",
              "       302632.65100281, 252441.45510973, 271454.75305103, 290521.98297698,\n",
              "       315274.19348009, 386761.82704166, 306654.69809922, 332293.40490258,\n",
              "       369004.55490223, 397160.2449457 , 448045.73145244, 565694.88961686,\n",
              "       657797.86065286, 901961.80403826])"
            ]
          },
          "metadata": {},
          "execution_count": 45
        }
      ]
    },
    {
      "cell_type": "code",
      "source": [
        "portfolio = pd.DataFrame(portfolio).T\n",
        "portfolio[list(range(5))]"
      ],
      "metadata": {
        "colab": {
          "base_uri": "https://localhost:8080/",
          "height": 990
        },
        "id": "W853e7AseK-I",
        "outputId": "85243617-9b39-459d-ddb3-3cdd4090baf0"
      },
      "execution_count": 46,
      "outputs": [
        {
          "output_type": "execute_result",
          "data": {
            "text/html": [
              "\n",
              "  <div id=\"df-0c2ab09a-cd3e-4c48-9914-4f3750ac083f\">\n",
              "    <div class=\"colab-df-container\">\n",
              "      <div>\n",
              "<style scoped>\n",
              "    .dataframe tbody tr th:only-of-type {\n",
              "        vertical-align: middle;\n",
              "    }\n",
              "\n",
              "    .dataframe tbody tr th {\n",
              "        vertical-align: top;\n",
              "    }\n",
              "\n",
              "    .dataframe thead th {\n",
              "        text-align: right;\n",
              "    }\n",
              "</style>\n",
              "<table border=\"1\" class=\"dataframe\">\n",
              "  <thead>\n",
              "    <tr style=\"text-align: right;\">\n",
              "      <th></th>\n",
              "      <th>0</th>\n",
              "      <th>1</th>\n",
              "      <th>2</th>\n",
              "      <th>3</th>\n",
              "      <th>4</th>\n",
              "    </tr>\n",
              "  </thead>\n",
              "  <tbody>\n",
              "    <tr>\n",
              "      <th>0</th>\n",
              "      <td>105082.381385</td>\n",
              "      <td>1.494878e+05</td>\n",
              "      <td>1.149805e+05</td>\n",
              "      <td>9.467819e+04</td>\n",
              "      <td>1.137274e+05</td>\n",
              "    </tr>\n",
              "    <tr>\n",
              "      <th>1</th>\n",
              "      <td>154125.787591</td>\n",
              "      <td>1.323901e+05</td>\n",
              "      <td>1.149703e+05</td>\n",
              "      <td>1.241152e+05</td>\n",
              "      <td>1.226261e+05</td>\n",
              "    </tr>\n",
              "    <tr>\n",
              "      <th>2</th>\n",
              "      <td>156529.182913</td>\n",
              "      <td>1.740638e+05</td>\n",
              "      <td>1.418445e+05</td>\n",
              "      <td>1.127295e+05</td>\n",
              "      <td>1.517010e+05</td>\n",
              "    </tr>\n",
              "    <tr>\n",
              "      <th>3</th>\n",
              "      <td>155860.843904</td>\n",
              "      <td>1.567298e+05</td>\n",
              "      <td>2.017531e+05</td>\n",
              "      <td>7.631063e+04</td>\n",
              "      <td>1.537098e+05</td>\n",
              "    </tr>\n",
              "    <tr>\n",
              "      <th>4</th>\n",
              "      <td>142917.639549</td>\n",
              "      <td>1.713038e+05</td>\n",
              "      <td>1.822245e+05</td>\n",
              "      <td>9.705084e+04</td>\n",
              "      <td>1.683270e+05</td>\n",
              "    </tr>\n",
              "    <tr>\n",
              "      <th>5</th>\n",
              "      <td>147418.284991</td>\n",
              "      <td>2.236423e+05</td>\n",
              "      <td>1.729715e+05</td>\n",
              "      <td>9.948531e+04</td>\n",
              "      <td>2.154002e+05</td>\n",
              "    </tr>\n",
              "    <tr>\n",
              "      <th>6</th>\n",
              "      <td>181675.224450</td>\n",
              "      <td>2.902983e+05</td>\n",
              "      <td>1.481663e+05</td>\n",
              "      <td>1.141803e+05</td>\n",
              "      <td>2.567019e+05</td>\n",
              "    </tr>\n",
              "    <tr>\n",
              "      <th>7</th>\n",
              "      <td>141672.812875</td>\n",
              "      <td>3.159770e+05</td>\n",
              "      <td>1.721014e+05</td>\n",
              "      <td>1.220467e+05</td>\n",
              "      <td>2.752826e+05</td>\n",
              "    </tr>\n",
              "    <tr>\n",
              "      <th>8</th>\n",
              "      <td>149032.474654</td>\n",
              "      <td>3.417075e+05</td>\n",
              "      <td>1.428529e+05</td>\n",
              "      <td>1.522345e+05</td>\n",
              "      <td>2.870897e+05</td>\n",
              "    </tr>\n",
              "    <tr>\n",
              "      <th>9</th>\n",
              "      <td>113269.395804</td>\n",
              "      <td>3.624005e+05</td>\n",
              "      <td>1.525987e+05</td>\n",
              "      <td>1.686113e+05</td>\n",
              "      <td>3.385124e+05</td>\n",
              "    </tr>\n",
              "    <tr>\n",
              "      <th>10</th>\n",
              "      <td>133402.589371</td>\n",
              "      <td>4.163933e+05</td>\n",
              "      <td>1.963788e+05</td>\n",
              "      <td>1.614457e+05</td>\n",
              "      <td>3.771093e+05</td>\n",
              "    </tr>\n",
              "    <tr>\n",
              "      <th>11</th>\n",
              "      <td>130178.929667</td>\n",
              "      <td>3.754675e+05</td>\n",
              "      <td>1.747413e+05</td>\n",
              "      <td>1.987881e+05</td>\n",
              "      <td>3.738717e+05</td>\n",
              "    </tr>\n",
              "    <tr>\n",
              "      <th>12</th>\n",
              "      <td>119523.172534</td>\n",
              "      <td>3.437909e+05</td>\n",
              "      <td>1.891730e+05</td>\n",
              "      <td>2.577162e+05</td>\n",
              "      <td>4.065620e+05</td>\n",
              "    </tr>\n",
              "    <tr>\n",
              "      <th>13</th>\n",
              "      <td>141649.645589</td>\n",
              "      <td>4.035971e+05</td>\n",
              "      <td>1.745253e+05</td>\n",
              "      <td>3.058463e+05</td>\n",
              "      <td>5.528444e+05</td>\n",
              "    </tr>\n",
              "    <tr>\n",
              "      <th>14</th>\n",
              "      <td>156745.738910</td>\n",
              "      <td>4.069317e+05</td>\n",
              "      <td>1.874173e+05</td>\n",
              "      <td>3.947839e+05</td>\n",
              "      <td>3.956227e+05</td>\n",
              "    </tr>\n",
              "    <tr>\n",
              "      <th>15</th>\n",
              "      <td>142609.214185</td>\n",
              "      <td>3.404407e+05</td>\n",
              "      <td>2.104100e+05</td>\n",
              "      <td>4.777726e+05</td>\n",
              "      <td>3.624462e+05</td>\n",
              "    </tr>\n",
              "    <tr>\n",
              "      <th>16</th>\n",
              "      <td>178425.080011</td>\n",
              "      <td>3.641716e+05</td>\n",
              "      <td>1.982046e+05</td>\n",
              "      <td>4.226763e+05</td>\n",
              "      <td>3.443406e+05</td>\n",
              "    </tr>\n",
              "    <tr>\n",
              "      <th>17</th>\n",
              "      <td>181261.191805</td>\n",
              "      <td>3.932836e+05</td>\n",
              "      <td>2.489324e+05</td>\n",
              "      <td>4.626824e+05</td>\n",
              "      <td>4.195924e+05</td>\n",
              "    </tr>\n",
              "    <tr>\n",
              "      <th>18</th>\n",
              "      <td>246695.214790</td>\n",
              "      <td>5.233780e+05</td>\n",
              "      <td>2.844643e+05</td>\n",
              "      <td>7.193202e+05</td>\n",
              "      <td>3.601296e+05</td>\n",
              "    </tr>\n",
              "    <tr>\n",
              "      <th>19</th>\n",
              "      <td>295043.082022</td>\n",
              "      <td>6.919976e+05</td>\n",
              "      <td>3.618099e+05</td>\n",
              "      <td>8.253569e+05</td>\n",
              "      <td>4.196952e+05</td>\n",
              "    </tr>\n",
              "    <tr>\n",
              "      <th>20</th>\n",
              "      <td>209185.111300</td>\n",
              "      <td>5.033211e+05</td>\n",
              "      <td>3.843682e+05</td>\n",
              "      <td>7.285310e+05</td>\n",
              "      <td>5.090638e+05</td>\n",
              "    </tr>\n",
              "    <tr>\n",
              "      <th>21</th>\n",
              "      <td>176053.554535</td>\n",
              "      <td>6.981306e+05</td>\n",
              "      <td>3.990773e+05</td>\n",
              "      <td>6.380618e+05</td>\n",
              "      <td>6.387753e+05</td>\n",
              "    </tr>\n",
              "    <tr>\n",
              "      <th>22</th>\n",
              "      <td>250975.670903</td>\n",
              "      <td>8.643579e+05</td>\n",
              "      <td>4.194933e+05</td>\n",
              "      <td>4.576892e+05</td>\n",
              "      <td>6.786000e+05</td>\n",
              "    </tr>\n",
              "    <tr>\n",
              "      <th>23</th>\n",
              "      <td>253704.906140</td>\n",
              "      <td>1.040709e+06</td>\n",
              "      <td>4.349308e+05</td>\n",
              "      <td>4.938850e+05</td>\n",
              "      <td>6.062425e+05</td>\n",
              "    </tr>\n",
              "    <tr>\n",
              "      <th>24</th>\n",
              "      <td>261533.222882</td>\n",
              "      <td>1.175142e+06</td>\n",
              "      <td>4.436433e+05</td>\n",
              "      <td>6.235094e+05</td>\n",
              "      <td>6.117530e+05</td>\n",
              "    </tr>\n",
              "    <tr>\n",
              "      <th>25</th>\n",
              "      <td>254149.354863</td>\n",
              "      <td>1.245209e+06</td>\n",
              "      <td>5.380849e+05</td>\n",
              "      <td>7.678965e+05</td>\n",
              "      <td>6.656258e+05</td>\n",
              "    </tr>\n",
              "    <tr>\n",
              "      <th>26</th>\n",
              "      <td>248857.089635</td>\n",
              "      <td>9.542793e+05</td>\n",
              "      <td>6.486339e+05</td>\n",
              "      <td>7.709275e+05</td>\n",
              "      <td>7.200308e+05</td>\n",
              "    </tr>\n",
              "    <tr>\n",
              "      <th>27</th>\n",
              "      <td>275068.141263</td>\n",
              "      <td>1.078345e+06</td>\n",
              "      <td>7.207956e+05</td>\n",
              "      <td>1.052379e+06</td>\n",
              "      <td>1.064380e+06</td>\n",
              "    </tr>\n",
              "    <tr>\n",
              "      <th>28</th>\n",
              "      <td>279212.964935</td>\n",
              "      <td>1.493652e+06</td>\n",
              "      <td>8.530220e+05</td>\n",
              "      <td>1.645959e+06</td>\n",
              "      <td>1.331676e+06</td>\n",
              "    </tr>\n",
              "    <tr>\n",
              "      <th>29</th>\n",
              "      <td>332478.749467</td>\n",
              "      <td>1.713454e+06</td>\n",
              "      <td>1.084352e+06</td>\n",
              "      <td>1.500216e+06</td>\n",
              "      <td>9.383633e+05</td>\n",
              "    </tr>\n",
              "  </tbody>\n",
              "</table>\n",
              "</div>\n",
              "      <button class=\"colab-df-convert\" onclick=\"convertToInteractive('df-0c2ab09a-cd3e-4c48-9914-4f3750ac083f')\"\n",
              "              title=\"Convert this dataframe to an interactive table.\"\n",
              "              style=\"display:none;\">\n",
              "        \n",
              "  <svg xmlns=\"http://www.w3.org/2000/svg\" height=\"24px\"viewBox=\"0 0 24 24\"\n",
              "       width=\"24px\">\n",
              "    <path d=\"M0 0h24v24H0V0z\" fill=\"none\"/>\n",
              "    <path d=\"M18.56 5.44l.94 2.06.94-2.06 2.06-.94-2.06-.94-.94-2.06-.94 2.06-2.06.94zm-11 1L8.5 8.5l.94-2.06 2.06-.94-2.06-.94L8.5 2.5l-.94 2.06-2.06.94zm10 10l.94 2.06.94-2.06 2.06-.94-2.06-.94-.94-2.06-.94 2.06-2.06.94z\"/><path d=\"M17.41 7.96l-1.37-1.37c-.4-.4-.92-.59-1.43-.59-.52 0-1.04.2-1.43.59L10.3 9.45l-7.72 7.72c-.78.78-.78 2.05 0 2.83L4 21.41c.39.39.9.59 1.41.59.51 0 1.02-.2 1.41-.59l7.78-7.78 2.81-2.81c.8-.78.8-2.07 0-2.86zM5.41 20L4 18.59l7.72-7.72 1.47 1.35L5.41 20z\"/>\n",
              "  </svg>\n",
              "      </button>\n",
              "      \n",
              "  <style>\n",
              "    .colab-df-container {\n",
              "      display:flex;\n",
              "      flex-wrap:wrap;\n",
              "      gap: 12px;\n",
              "    }\n",
              "\n",
              "    .colab-df-convert {\n",
              "      background-color: #E8F0FE;\n",
              "      border: none;\n",
              "      border-radius: 50%;\n",
              "      cursor: pointer;\n",
              "      display: none;\n",
              "      fill: #1967D2;\n",
              "      height: 32px;\n",
              "      padding: 0 0 0 0;\n",
              "      width: 32px;\n",
              "    }\n",
              "\n",
              "    .colab-df-convert:hover {\n",
              "      background-color: #E2EBFA;\n",
              "      box-shadow: 0px 1px 2px rgba(60, 64, 67, 0.3), 0px 1px 3px 1px rgba(60, 64, 67, 0.15);\n",
              "      fill: #174EA6;\n",
              "    }\n",
              "\n",
              "    [theme=dark] .colab-df-convert {\n",
              "      background-color: #3B4455;\n",
              "      fill: #D2E3FC;\n",
              "    }\n",
              "\n",
              "    [theme=dark] .colab-df-convert:hover {\n",
              "      background-color: #434B5C;\n",
              "      box-shadow: 0px 1px 3px 1px rgba(0, 0, 0, 0.15);\n",
              "      filter: drop-shadow(0px 1px 2px rgba(0, 0, 0, 0.3));\n",
              "      fill: #FFFFFF;\n",
              "    }\n",
              "  </style>\n",
              "\n",
              "      <script>\n",
              "        const buttonEl =\n",
              "          document.querySelector('#df-0c2ab09a-cd3e-4c48-9914-4f3750ac083f button.colab-df-convert');\n",
              "        buttonEl.style.display =\n",
              "          google.colab.kernel.accessAllowed ? 'block' : 'none';\n",
              "\n",
              "        async function convertToInteractive(key) {\n",
              "          const element = document.querySelector('#df-0c2ab09a-cd3e-4c48-9914-4f3750ac083f');\n",
              "          const dataTable =\n",
              "            await google.colab.kernel.invokeFunction('convertToInteractive',\n",
              "                                                     [key], {});\n",
              "          if (!dataTable) return;\n",
              "\n",
              "          const docLinkHtml = 'Like what you see? Visit the ' +\n",
              "            '<a target=\"_blank\" href=https://colab.research.google.com/notebooks/data_table.ipynb>data table notebook</a>'\n",
              "            + ' to learn more about interactive tables.';\n",
              "          element.innerHTML = '';\n",
              "          dataTable['output_type'] = 'display_data';\n",
              "          await google.colab.output.renderOutput(dataTable, element);\n",
              "          const docLink = document.createElement('div');\n",
              "          docLink.innerHTML = docLinkHtml;\n",
              "          element.appendChild(docLink);\n",
              "        }\n",
              "      </script>\n",
              "    </div>\n",
              "  </div>\n",
              "  "
            ],
            "text/plain": [
              "                0             1             2             3             4\n",
              "0   105082.381385  1.494878e+05  1.149805e+05  9.467819e+04  1.137274e+05\n",
              "1   154125.787591  1.323901e+05  1.149703e+05  1.241152e+05  1.226261e+05\n",
              "2   156529.182913  1.740638e+05  1.418445e+05  1.127295e+05  1.517010e+05\n",
              "3   155860.843904  1.567298e+05  2.017531e+05  7.631063e+04  1.537098e+05\n",
              "4   142917.639549  1.713038e+05  1.822245e+05  9.705084e+04  1.683270e+05\n",
              "5   147418.284991  2.236423e+05  1.729715e+05  9.948531e+04  2.154002e+05\n",
              "6   181675.224450  2.902983e+05  1.481663e+05  1.141803e+05  2.567019e+05\n",
              "7   141672.812875  3.159770e+05  1.721014e+05  1.220467e+05  2.752826e+05\n",
              "8   149032.474654  3.417075e+05  1.428529e+05  1.522345e+05  2.870897e+05\n",
              "9   113269.395804  3.624005e+05  1.525987e+05  1.686113e+05  3.385124e+05\n",
              "10  133402.589371  4.163933e+05  1.963788e+05  1.614457e+05  3.771093e+05\n",
              "11  130178.929667  3.754675e+05  1.747413e+05  1.987881e+05  3.738717e+05\n",
              "12  119523.172534  3.437909e+05  1.891730e+05  2.577162e+05  4.065620e+05\n",
              "13  141649.645589  4.035971e+05  1.745253e+05  3.058463e+05  5.528444e+05\n",
              "14  156745.738910  4.069317e+05  1.874173e+05  3.947839e+05  3.956227e+05\n",
              "15  142609.214185  3.404407e+05  2.104100e+05  4.777726e+05  3.624462e+05\n",
              "16  178425.080011  3.641716e+05  1.982046e+05  4.226763e+05  3.443406e+05\n",
              "17  181261.191805  3.932836e+05  2.489324e+05  4.626824e+05  4.195924e+05\n",
              "18  246695.214790  5.233780e+05  2.844643e+05  7.193202e+05  3.601296e+05\n",
              "19  295043.082022  6.919976e+05  3.618099e+05  8.253569e+05  4.196952e+05\n",
              "20  209185.111300  5.033211e+05  3.843682e+05  7.285310e+05  5.090638e+05\n",
              "21  176053.554535  6.981306e+05  3.990773e+05  6.380618e+05  6.387753e+05\n",
              "22  250975.670903  8.643579e+05  4.194933e+05  4.576892e+05  6.786000e+05\n",
              "23  253704.906140  1.040709e+06  4.349308e+05  4.938850e+05  6.062425e+05\n",
              "24  261533.222882  1.175142e+06  4.436433e+05  6.235094e+05  6.117530e+05\n",
              "25  254149.354863  1.245209e+06  5.380849e+05  7.678965e+05  6.656258e+05\n",
              "26  248857.089635  9.542793e+05  6.486339e+05  7.709275e+05  7.200308e+05\n",
              "27  275068.141263  1.078345e+06  7.207956e+05  1.052379e+06  1.064380e+06\n",
              "28  279212.964935  1.493652e+06  8.530220e+05  1.645959e+06  1.331676e+06\n",
              "29  332478.749467  1.713454e+06  1.084352e+06  1.500216e+06  9.383633e+05"
            ]
          },
          "metadata": {},
          "execution_count": 46
        }
      ]
    },
    {
      "cell_type": "code",
      "source": [
        "portfolio.iloc[29].describe()"
      ],
      "metadata": {
        "colab": {
          "base_uri": "https://localhost:8080/"
        },
        "id": "2gkrdUQxebxp",
        "outputId": "e00ea229-8596-4562-ee13-2447f5eac1fe"
      },
      "execution_count": 47,
      "outputs": [
        {
          "output_type": "execute_result",
          "data": {
            "text/plain": [
              "count    5.000000e+04\n",
              "mean     1.523063e+06\n",
              "std      1.700287e+06\n",
              "min      1.063273e+04\n",
              "25%      5.188605e+05\n",
              "50%      9.967529e+05\n",
              "75%      1.892115e+06\n",
              "max      3.529640e+07\n",
              "Name: 29, dtype: float64"
            ]
          },
          "metadata": {},
          "execution_count": 47
        }
      ]
    },
    {
      "cell_type": "code",
      "source": [
        "ending = portfolio.iloc[29]\n",
        "mask = ending < 10000000\n",
        "plt.figure(figsize=(12,8))\n",
        "plt.xlim(ending[mask].min(), ending[mask].max() )\n",
        "plt.hist(ending[mask], bins=100, edgecolor='k')\n",
        "plt.axvline(ending[mask].median(), color='r')"
      ],
      "metadata": {
        "colab": {
          "base_uri": "https://localhost:8080/"
        },
        "id": "8RWSnpcCe-a0",
        "outputId": "5c36ea1f-5958-4ef4-b3df-2fc43f4b52e6"
      },
      "execution_count": 48,
      "outputs": [
        {
          "output_type": "execute_result",
          "data": {
            "text/plain": [
              "<matplotlib.lines.Line2D at 0x7f2d4bd04910>"
            ]
          },
          "metadata": {},
          "execution_count": 48
        }
      ]
    },
    {
      "cell_type": "code",
      "source": [
        "percentiles = [1,5,10]\n",
        "np.percentile(ending, percentiles)"
      ],
      "metadata": {
        "colab": {
          "base_uri": "https://localhost:8080/"
        },
        "id": "MR7AMhkYgY77",
        "outputId": "b533b2fb-829b-489a-f05a-be399aa9090e"
      },
      "execution_count": 49,
      "outputs": [
        {
          "output_type": "execute_result",
          "data": {
            "text/plain": [
              "array([ 94034.75662153, 194556.09227591, 279905.11837378])"
            ]
          },
          "metadata": {},
          "execution_count": 49
        }
      ]
    }
  ]
}