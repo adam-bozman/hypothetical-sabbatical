{
  "nbformat": 4,
  "nbformat_minor": 0,
  "metadata": {
    "colab": {
      "name": "WebScrapingAmazonDataBS4.ipynb",
      "provenance": [],
      "collapsed_sections": [],
      "authorship_tag": "ABX9TyMERXs7+TGNRzh/Gxk92+CJ",
      "include_colab_link": true
    },
    "kernelspec": {
      "name": "python3",
      "display_name": "Python 3"
    },
    "language_info": {
      "name": "python"
    }
  },
  "cells": [
    {
      "cell_type": "markdown",
      "metadata": {
        "id": "view-in-github",
        "colab_type": "text"
      },
      "source": [
        "<a href=\"https://colab.research.google.com/github/adam-bozman/hypothetical-sabbatical/blob/main/WebScrapingAmazonDataBS4.ipynb\" target=\"_parent\"><img src=\"https://colab.research.google.com/assets/colab-badge.svg\" alt=\"Open In Colab\"/></a>"
      ]
    },
    {
      "cell_type": "markdown",
      "source": [
        "#Web Scraping Amazon Data with Python"
      ],
      "metadata": {
        "id": "9xr7irTlNS4-"
      }
    },
    {
      "cell_type": "markdown",
      "source": [
        "## Imports"
      ],
      "metadata": {
        "id": "ae8p5sDvNMw0"
      }
    },
    {
      "cell_type": "code",
      "execution_count": 172,
      "metadata": {
        "id": "yJnpNewbNKe1"
      },
      "outputs": [],
      "source": [
        "from bs4 import BeautifulSoup\n",
        "import requests\n",
        "import lxml\n",
        "import csv\n",
        "import pandas as pd\n",
        "import urllib.parse"
      ]
    },
    {
      "cell_type": "markdown",
      "source": [
        "##Initializing the Program"
      ],
      "metadata": {
        "id": "VXNaOySSojaS"
      }
    },
    {
      "cell_type": "markdown",
      "source": [
        "####HTTP Request"
      ],
      "metadata": {
        "id": "N4V71EfmS1B9"
      }
    },
    {
      "cell_type": "code",
      "source": [
        "#To avoid a 503 error, headers is required (exclusive to Amazon)\n",
        "HEADERS = ({'User-Agent':\n",
        "            'Mozilla/5.0 (Windows NT 10.0; Win64; x64) \\\n",
        "            AppleWebKit/537.36 (KHTML, like Gecko) \\\n",
        "            Chrome/90.0.4430.212 Safari/537.36',\n",
        "            'Accept-Language': 'en-US, en;q=0.5'})\n",
        "\n",
        "website = 'https://www.amazon.com/s?k=timberland+boots+for+men&crid=DPMBRVEUI1YS&sprefix=timberland%2Caps%2C283&ref=nb_sb_ss_ts-doa-p_1_10'"
      ],
      "metadata": {
        "id": "UDg51CACS3-A"
      },
      "execution_count": 103,
      "outputs": []
    },
    {
      "cell_type": "markdown",
      "source": [
        "#### Get Request"
      ],
      "metadata": {
        "id": "t6Yud1P1TEhB"
      }
    },
    {
      "cell_type": "code",
      "source": [
        "response = requests.get(website, headers = HEADERS)"
      ],
      "metadata": {
        "id": "s_4sHfwoTKrQ"
      },
      "execution_count": 104,
      "outputs": []
    },
    {
      "cell_type": "markdown",
      "source": [
        "#### Status Code"
      ],
      "metadata": {
        "id": "04K3XMHpTQes"
      }
    },
    {
      "cell_type": "code",
      "source": [
        "response.status_code"
      ],
      "metadata": {
        "colab": {
          "base_uri": "https://localhost:8080/"
        },
        "id": "hf6lERthTXQA",
        "outputId": "2e52fbce-27e5-422c-d098-8f3c2cdb6995"
      },
      "execution_count": 105,
      "outputs": [
        {
          "output_type": "execute_result",
          "data": {
            "text/plain": [
              "200"
            ]
          },
          "metadata": {},
          "execution_count": 105
        }
      ]
    },
    {
      "cell_type": "markdown",
      "source": [
        "##Soup Object"
      ],
      "metadata": {
        "id": "i9iEQVTmBITw"
      }
    },
    {
      "cell_type": "code",
      "source": [
        "soup = BeautifulSoup(response.content, 'html.parser')"
      ],
      "metadata": {
        "id": "OW5F6xRrBLwG"
      },
      "execution_count": 106,
      "outputs": []
    },
    {
      "cell_type": "markdown",
      "source": [
        "##Results"
      ],
      "metadata": {
        "id": "_hZSJ6xnBTqB"
      }
    },
    {
      "cell_type": "code",
      "source": [
        "results = soup.find_all('div', {'data-component-type':'s-search-result'})"
      ],
      "metadata": {
        "id": "CsJzRqd5BWBA"
      },
      "execution_count": 107,
      "outputs": []
    },
    {
      "cell_type": "code",
      "source": [
        "len(results)"
      ],
      "metadata": {
        "colab": {
          "base_uri": "https://localhost:8080/"
        },
        "id": "XtoDoNiMCO0Z",
        "outputId": "c8090603-8942-49f3-bdd0-44ce9d73796c"
      },
      "execution_count": 108,
      "outputs": [
        {
          "output_type": "execute_result",
          "data": {
            "text/plain": [
              "57"
            ]
          },
          "metadata": {},
          "execution_count": 108
        }
      ]
    },
    {
      "cell_type": "code",
      "source": [
        "results[1]"
      ],
      "metadata": {
        "colab": {
          "base_uri": "https://localhost:8080/"
        },
        "id": "miFLnZ_XCXJa",
        "outputId": "bc3a1f5e-0fd9-40cf-b838-9532add448d7"
      },
      "execution_count": 109,
      "outputs": [
        {
          "output_type": "execute_result",
          "data": {
            "text/plain": [
              "<div class=\"sg-col-4-of-12 s-result-item s-asin sg-col-4-of-16 sg-col s-widget-spacing-small sg-col-4-of-20\" data-asin=\"B000VX04F2\" data-component-type=\"s-search-result\" data-index=\"3\" data-uuid=\"7341b256-6f2f-460d-b934-5284d6183245\"><div class=\"sg-col-inner\">\n",
              "<div cel_widget_id=\"MAIN-SEARCH_RESULTS-3\" class=\"s-widget-container s-spacing-small s-widget-container-height-small celwidget slot=MAIN template=SEARCH_RESULTS widgetId=search-results_2\">\n",
              "<div class=\"s-card-container s-overflow-hidden s-expand-height s-include-content-margin s-latency-cf-section s-card-border\"><div class=\"a-section a-spacing-base\"><div class=\"s-product-image-container aok-relative s-image-overlay-grey s-text-center s-padding-left-small s-padding-right-small s-spacing-small s-height-equalized\"><span class=\"rush-component\" data-component-type=\"s-product-image\"><a class=\"a-link-normal s-no-outline\" href=\"/Timberland-Classic-Premium-Black-Nubuck/dp/B000VX04F2/ref=sr_1_2?crid=DPMBRVEUI1YS&amp;keywords=timberland+boots+for+men&amp;qid=1643597021&amp;sprefix=timberland%2Caps%2C283&amp;sr=8-2\"><div class=\"a-section aok-relative s-image-square-aspect\"><img alt=\"Timberland Men's 6-Inch Premium Waterproof Boot\" class=\"s-image\" data-image-index=\"2\" data-image-latency=\"s-product-image\" data-image-load=\"\" data-image-source-density=\"1\" src=\"https://m.media-amazon.com/images/I/61WlFQQDBXL._AC_UL320_.jpg\" srcset=\"https://m.media-amazon.com/images/I/61WlFQQDBXL._AC_UL320_.jpg 1x, https://m.media-amazon.com/images/I/61WlFQQDBXL._AC_UL480_QL65_.jpg 1.5x, https://m.media-amazon.com/images/I/61WlFQQDBXL._AC_UL640_QL65_.jpg 2x, https://m.media-amazon.com/images/I/61WlFQQDBXL._AC_UL800_QL65_.jpg 2.5x, https://m.media-amazon.com/images/I/61WlFQQDBXL._AC_UL960_QL65_.jpg 3x\"/></div></a></span></div><div class=\"a-section a-spacing-small s-padding-left-small s-padding-right-small\"><div class=\"a-section a-spacing-none a-spacing-top-small s-title-instructions-style\"><h2 class=\"a-size-mini a-spacing-none a-color-base s-line-clamp-4\"><a class=\"a-link-normal s-underline-text s-underline-link-text s-link-style a-text-normal\" href=\"/Timberland-Classic-Premium-Black-Nubuck/dp/B000VX04F2/ref=sr_1_2?crid=DPMBRVEUI1YS&amp;keywords=timberland+boots+for+men&amp;qid=1643597021&amp;sprefix=timberland%2Caps%2C283&amp;sr=8-2\"><span class=\"a-size-base-plus a-color-base a-text-normal\">Timberland Men's 6-Inch Premium Waterproof Boot</span> </a> </h2></div><div class=\"a-section a-spacing-none a-spacing-top-micro\"><div class=\"a-row a-size-small\"><span aria-label=\"4.6 out of 5 stars\"><span class=\"a-declarative\" data-a-popover='{\"closeButton\":false,\"closeButtonLabel\":\"\",\"position\":\"triggerBottom\",\"popoverLabel\":\"\",\"url\":\"/review/widgets/average-customer-review/popover/ref=acr_search__popover?ie=UTF8&amp;asin=B000VX04F2&amp;ref=acr_search__popover&amp;contextId=search\"}' data-action=\"a-popover\" data-csa-c-func-deps=\"aui-da-a-popover\" data-csa-c-type=\"widget\"><a class=\"a-popover-trigger a-declarative\" href=\"javascript:void(0)\" role=\"button\"><i class=\"a-icon a-icon-star-small a-star-small-4-5 aok-align-bottom\"><span class=\"a-icon-alt\">4.6 out of 5 stars</span></i><i class=\"a-icon a-icon-popover\"></i></a></span> </span><span aria-label=\"14,408\"><a class=\"a-link-normal s-underline-text s-underline-link-text s-link-style\" href=\"/Timberland-Classic-Premium-Black-Nubuck/dp/B000VX04F2/ref=sr_1_2?crid=DPMBRVEUI1YS&amp;keywords=timberland+boots+for+men&amp;qid=1643597021&amp;sprefix=timberland%2Caps%2C283&amp;sr=8-2#customerReviews\"><span class=\"a-size-base a-color-base s-underline-text\">14,408</span> </a> </span></div></div></div></div></div>\n",
              "</div>\n",
              "</div></div>"
            ]
          },
          "metadata": {},
          "execution_count": 109
        }
      ]
    },
    {
      "cell_type": "markdown",
      "source": [
        "##Target Data"
      ],
      "metadata": {
        "id": "D-55v8vnCcXi"
      }
    },
    {
      "cell_type": "code",
      "source": [
        "# Product Name\n",
        "# Price\n",
        "# Review Rating\n",
        "# Review Count\n",
        "# Product Link"
      ],
      "metadata": {
        "id": "u66OCFTBCe_Q"
      },
      "execution_count": null,
      "outputs": []
    },
    {
      "cell_type": "markdown",
      "source": [
        "####Name"
      ],
      "metadata": {
        "id": "sLzmWiztC3Vk"
      }
    },
    {
      "cell_type": "code",
      "source": [
        "results[0].find('span', {'class':'a-size-base-plus a-color-base a-text-normal'}).get_text()"
      ],
      "metadata": {
        "colab": {
          "base_uri": "https://localhost:8080/",
          "height": 35
        },
        "id": "asP1K_WBC5cv",
        "outputId": "b599666e-de19-4873-891c-a3fdaf7a4888"
      },
      "execution_count": 110,
      "outputs": [
        {
          "output_type": "execute_result",
          "data": {
            "application/vnd.google.colaboratory.intrinsic+json": {
              "type": "string"
            },
            "text/plain": [
              "\"Timberland Men's White Ledge Mid Waterproof Hiking Boot\""
            ]
          },
          "metadata": {},
          "execution_count": 110
        }
      ]
    },
    {
      "cell_type": "markdown",
      "source": [
        "####Price"
      ],
      "metadata": {
        "id": "AAMo2zu_C47i"
      }
    },
    {
      "cell_type": "code",
      "source": [
        "results[0].find('span', {'class':'a-offscreen'}).get_text()"
      ],
      "metadata": {
        "colab": {
          "base_uri": "https://localhost:8080/",
          "height": 35
        },
        "id": "hsCccnU-Cn65",
        "outputId": "eee8293c-afb2-4230-d56a-59fd9c20a8db"
      },
      "execution_count": 117,
      "outputs": [
        {
          "output_type": "execute_result",
          "data": {
            "application/vnd.google.colaboratory.intrinsic+json": {
              "type": "string"
            },
            "text/plain": [
              "'$90.12'"
            ]
          },
          "metadata": {},
          "execution_count": 117
        }
      ]
    },
    {
      "cell_type": "markdown",
      "source": [
        "####Review Rating"
      ],
      "metadata": {
        "id": "fD3mX552D5oS"
      }
    },
    {
      "cell_type": "code",
      "source": [
        "results[0].find('span', {'class':'a-icon-alt'}).get_text()"
      ],
      "metadata": {
        "colab": {
          "base_uri": "https://localhost:8080/",
          "height": 35
        },
        "id": "Ronli-6OJXzw",
        "outputId": "8fd73534-8b36-46fa-b8b7-a73333a10291"
      },
      "execution_count": 151,
      "outputs": [
        {
          "output_type": "execute_result",
          "data": {
            "application/vnd.google.colaboratory.intrinsic+json": {
              "type": "string"
            },
            "text/plain": [
              "'4.5 out of 5 stars'"
            ]
          },
          "metadata": {},
          "execution_count": 151
        }
      ]
    },
    {
      "cell_type": "markdown",
      "source": [
        "####Review Count"
      ],
      "metadata": {
        "id": "bXypOG8UEOqV"
      }
    },
    {
      "cell_type": "code",
      "source": [
        "results[0].find('span', {'class':'a-size-base a-color-base s-underline-text'}).get_text()"
      ],
      "metadata": {
        "colab": {
          "base_uri": "https://localhost:8080/",
          "height": 35
        },
        "id": "XhnWvl3-ESzq",
        "outputId": "d6186c16-93bd-43ff-f0ad-5cb3d940e060"
      },
      "execution_count": 152,
      "outputs": [
        {
          "output_type": "execute_result",
          "data": {
            "application/vnd.google.colaboratory.intrinsic+json": {
              "type": "string"
            },
            "text/plain": [
              "'43,664'"
            ]
          },
          "metadata": {},
          "execution_count": 152
        }
      ]
    },
    {
      "cell_type": "markdown",
      "source": [
        "####Relative URL"
      ],
      "metadata": {
        "id": "x-k0SQmPKuni"
      }
    },
    {
      "cell_type": "code",
      "source": [
        "relative_url = results[0].find('a', {'class':'a-link-normal s-no-outline'}).get('href')"
      ],
      "metadata": {
        "id": "PR_juAPcKxzW"
      },
      "execution_count": 154,
      "outputs": []
    },
    {
      "cell_type": "code",
      "source": [
        "relative_url"
      ],
      "metadata": {
        "colab": {
          "base_uri": "https://localhost:8080/",
          "height": 35
        },
        "id": "UebLJfikLUvx",
        "outputId": "6793e41d-b02b-4039-9757-39fcdeb88e3e"
      },
      "execution_count": 155,
      "outputs": [
        {
          "output_type": "execute_result",
          "data": {
            "application/vnd.google.colaboratory.intrinsic+json": {
              "type": "string"
            },
            "text/plain": [
              "'/Timberland-White-Ledge-Waterproof-Brown/dp/B000VX6Y2O/ref=sr_1_1?crid=DPMBRVEUI1YS&keywords=timberland+boots+for+men&qid=1643597021&sprefix=timberland%2Caps%2C283&sr=8-1'"
            ]
          },
          "metadata": {},
          "execution_count": 155
        }
      ]
    },
    {
      "cell_type": "code",
      "source": [
        "root_url = 'https://www.amazon.com/'"
      ],
      "metadata": {
        "id": "jVk4n9PULsuS"
      },
      "execution_count": 156,
      "outputs": []
    },
    {
      "cell_type": "code",
      "source": [
        "#URLs combined\n",
        "url_combined = root_url + relative_url"
      ],
      "metadata": {
        "id": "ebfjdryXL0zO"
      },
      "execution_count": 157,
      "outputs": []
    },
    {
      "cell_type": "code",
      "source": [
        "url_combined"
      ],
      "metadata": {
        "colab": {
          "base_uri": "https://localhost:8080/",
          "height": 53
        },
        "id": "k-eKWug4L8bm",
        "outputId": "26b473fa-8c2a-4098-e2ac-83429905339e"
      },
      "execution_count": 158,
      "outputs": [
        {
          "output_type": "execute_result",
          "data": {
            "application/vnd.google.colaboratory.intrinsic+json": {
              "type": "string"
            },
            "text/plain": [
              "'https://www.amazon.com//Timberland-White-Ledge-Waterproof-Brown/dp/B000VX6Y2O/ref=sr_1_1?crid=DPMBRVEUI1YS&keywords=timberland+boots+for+men&qid=1643597021&sprefix=timberland%2Caps%2C283&sr=8-1'"
            ]
          },
          "metadata": {},
          "execution_count": 158
        }
      ]
    },
    {
      "cell_type": "markdown",
      "source": [
        "##Create a For Loop"
      ],
      "metadata": {
        "id": "awUnuKZiMHBb"
      }
    },
    {
      "cell_type": "code",
      "source": [
        "product_name = []\n",
        "product_price = []\n",
        "review_rating = []\n",
        "review_count = []\n",
        "relative_url = []\n",
        "\n",
        "for result in results:\n",
        "    \n",
        "    # name\n",
        "    try:\n",
        "        product_name.append(result.find('span', {'class':'a-size-base-plus a-color-base a-text-normal'}).get_text()) \n",
        "    except:\n",
        "        product_name.append('n/a')\n",
        "    \n",
        "    # price\n",
        "    try:\n",
        "        product_price.append(result.find('span', {'class':'a-offscreen'}).get_text())\n",
        "    except:\n",
        "        product_price.append('n/a')\n",
        "    \n",
        "    # review rating\n",
        "    try:\n",
        "        review_rating.append(result.find('span', {'class':'a-icon-alt'}).get_text())\n",
        "    except:\n",
        "        review_rating.append('n/a')\n",
        "        \n",
        "    # review count\n",
        "    try:\n",
        "        review_count.append(result.find('span', {'class':'a-size-base a-color-base s-underline-text'}).get_text())\n",
        "    except:\n",
        "        review_count.append('n/a')\n",
        "    \n",
        "    # relative URL\n",
        "    try:\n",
        "        relative_url.append(result.find('a', {'class':'a-link-normal s-no-outline'}).get('href'))\n",
        "    except:\n",
        "        relative_url.append('n/a')"
      ],
      "metadata": {
        "id": "z_wI15CkMLn1"
      },
      "execution_count": 168,
      "outputs": []
    },
    {
      "cell_type": "markdown",
      "source": [
        "###Combine URLs"
      ],
      "metadata": {
        "id": "CIXmPjLZMVTc"
      }
    },
    {
      "cell_type": "code",
      "source": [
        "url_combined = []\n",
        "\n",
        "for link in relative_url:\n",
        "    url_combined.append(urllib.parse.urljoin(root_url, link))"
      ],
      "metadata": {
        "id": "VbxGvcJMMZG7"
      },
      "execution_count": 169,
      "outputs": []
    },
    {
      "cell_type": "markdown",
      "source": [
        "##Create Pandas Dataframe"
      ],
      "metadata": {
        "id": "d9M02mE3MetJ"
      }
    },
    {
      "cell_type": "code",
      "source": [
        "product_overview = pd.DataFrame({'Name': product_name, 'Price':product_price, 'Rating':review_rating,\n",
        "                                'Review Count': review_count, 'Link': url_combined})"
      ],
      "metadata": {
        "id": "ZyQXBMe4MiMb"
      },
      "execution_count": 170,
      "outputs": []
    },
    {
      "cell_type": "code",
      "source": [
        "product_overview"
      ],
      "metadata": {
        "colab": {
          "base_uri": "https://localhost:8080/",
          "height": 1000
        },
        "id": "nF0r25Z9MoFp",
        "outputId": "9e3e42f0-889a-44a1-90b6-6ed70a3e4959"
      },
      "execution_count": 171,
      "outputs": [
        {
          "output_type": "execute_result",
          "data": {
            "text/html": [
              "\n",
              "  <div id=\"df-1aed2548-5a38-4853-81f9-6a92b6fa7ce6\">\n",
              "    <div class=\"colab-df-container\">\n",
              "      <div>\n",
              "<style scoped>\n",
              "    .dataframe tbody tr th:only-of-type {\n",
              "        vertical-align: middle;\n",
              "    }\n",
              "\n",
              "    .dataframe tbody tr th {\n",
              "        vertical-align: top;\n",
              "    }\n",
              "\n",
              "    .dataframe thead th {\n",
              "        text-align: right;\n",
              "    }\n",
              "</style>\n",
              "<table border=\"1\" class=\"dataframe\">\n",
              "  <thead>\n",
              "    <tr style=\"text-align: right;\">\n",
              "      <th></th>\n",
              "      <th>Name</th>\n",
              "      <th>Price</th>\n",
              "      <th>Rating</th>\n",
              "      <th>Review Count</th>\n",
              "      <th>Link</th>\n",
              "    </tr>\n",
              "  </thead>\n",
              "  <tbody>\n",
              "    <tr>\n",
              "      <th>0</th>\n",
              "      <td>Timberland Men's White Ledge Mid Waterproof Hi...</td>\n",
              "      <td>$90.12</td>\n",
              "      <td>4.5 out of 5 stars</td>\n",
              "      <td>43,664</td>\n",
              "      <td>https://www.amazon.com/Timberland-White-Ledge-...</td>\n",
              "    </tr>\n",
              "    <tr>\n",
              "      <th>1</th>\n",
              "      <td>Timberland Men's 6-Inch Premium Waterproof Boot</td>\n",
              "      <td>n/a</td>\n",
              "      <td>4.6 out of 5 stars</td>\n",
              "      <td>14,408</td>\n",
              "      <td>https://www.amazon.com/Timberland-Classic-Prem...</td>\n",
              "    </tr>\n",
              "    <tr>\n",
              "      <th>2</th>\n",
              "      <td>Timberland PRO Men's Pit Boss 6 Inch Steel Saf...</td>\n",
              "      <td>$102.69</td>\n",
              "      <td>4.4 out of 5 stars</td>\n",
              "      <td>15,520</td>\n",
              "      <td>https://www.amazon.com/Timberland-PRO-Pitboss-...</td>\n",
              "    </tr>\n",
              "    <tr>\n",
              "      <th>3</th>\n",
              "      <td>Timberland Men's Ankle Chukka Boots</td>\n",
              "      <td>$246.07</td>\n",
              "      <td>4.6 out of 5 stars</td>\n",
              "      <td>2,696</td>\n",
              "      <td>https://www.amazon.com/Timberland-Ankle-Chukka...</td>\n",
              "    </tr>\n",
              "    <tr>\n",
              "      <th>4</th>\n",
              "      <td>Timberland Men's Anti-Fatigue Hiking Waterproo...</td>\n",
              "      <td>$99.95</td>\n",
              "      <td>4.6 out of 5 stars</td>\n",
              "      <td>7,222</td>\n",
              "      <td>https://www.amazon.com/Timberland-Mens-Maddsen...</td>\n",
              "    </tr>\n",
              "    <tr>\n",
              "      <th>5</th>\n",
              "      <td>Timberland PRO Men's Pit Boss 6 Inch Soft Toe ...</td>\n",
              "      <td>$98.56</td>\n",
              "      <td>4.5 out of 5 stars</td>\n",
              "      <td>7,497</td>\n",
              "      <td>https://www.amazon.com/Timberland-PRO-Pitboss-...</td>\n",
              "    </tr>\n",
              "    <tr>\n",
              "      <th>6</th>\n",
              "      <td>Timberland Men's Earthkeepers Rugged 6\" Boot</td>\n",
              "      <td>$184.95</td>\n",
              "      <td>4.5 out of 5 stars</td>\n",
              "      <td>3,665</td>\n",
              "      <td>https://www.amazon.com/Timberland-Earthkeepers...</td>\n",
              "    </tr>\n",
              "    <tr>\n",
              "      <th>7</th>\n",
              "      <td>Timberland Men's Earthkeepers 6\" Boot</td>\n",
              "      <td>$150.00</td>\n",
              "      <td>4.5 out of 5 stars</td>\n",
              "      <td>3,971</td>\n",
              "      <td>https://www.amazon.com/Timberland-Earthkeepers...</td>\n",
              "    </tr>\n",
              "    <tr>\n",
              "      <th>8</th>\n",
              "      <td>Timberland mens White Ledge Mid Waterproof</td>\n",
              "      <td>$89.95</td>\n",
              "      <td>4.6 out of 5 stars</td>\n",
              "      <td>3,361</td>\n",
              "      <td>https://www.amazon.com/Timberland-White-Ledge-...</td>\n",
              "    </tr>\n",
              "    <tr>\n",
              "      <th>9</th>\n",
              "      <td>Timberland PRO Men's 26011 Direct Attach 8\" So...</td>\n",
              "      <td>$134.95</td>\n",
              "      <td>4.6 out of 5 stars</td>\n",
              "      <td>3,716</td>\n",
              "      <td>https://www.amazon.com/Timberland-PRO-Direct-A...</td>\n",
              "    </tr>\n",
              "    <tr>\n",
              "      <th>10</th>\n",
              "      <td>Timberland Men's 6 in Double Collar Boot Ankle</td>\n",
              "      <td>$160.52</td>\n",
              "      <td>4.5 out of 5 stars</td>\n",
              "      <td>368</td>\n",
              "      <td>https://www.amazon.com/Timberland-Double-Colla...</td>\n",
              "    </tr>\n",
              "    <tr>\n",
              "      <th>11</th>\n",
              "      <td>Timberland PRO Men's Direct Attach 8 Inch Stee...</td>\n",
              "      <td>$158.05</td>\n",
              "      <td>4.5 out of 5 stars</td>\n",
              "      <td>2,057</td>\n",
              "      <td>https://www.amazon.com/Timberland-PRO-Direct-A...</td>\n",
              "    </tr>\n",
              "    <tr>\n",
              "      <th>12</th>\n",
              "      <td>Timberland Men's Chocorua Trail Mid Waterproof...</td>\n",
              "      <td>$124.95</td>\n",
              "      <td>4.5 out of 5 stars</td>\n",
              "      <td>6,761</td>\n",
              "      <td>https://www.amazon.com/Timberland-Chocorua-Tra...</td>\n",
              "    </tr>\n",
              "    <tr>\n",
              "      <th>13</th>\n",
              "      <td>Timberland PRO Men's Wedge Sole 6\" Boot</td>\n",
              "      <td>$115.00</td>\n",
              "      <td>4.3 out of 5 stars</td>\n",
              "      <td>2,883</td>\n",
              "      <td>https://www.amazon.com/Timberland-PRO-53009-We...</td>\n",
              "    </tr>\n",
              "    <tr>\n",
              "      <th>14</th>\n",
              "      <td>Timberland PRO mens Gridworks 6 Inch Soft Toe ...</td>\n",
              "      <td>$155.00</td>\n",
              "      <td>4.5 out of 5 stars</td>\n",
              "      <td>1,401</td>\n",
              "      <td>https://www.amazon.com/Timberland-PRO-Gridwork...</td>\n",
              "    </tr>\n",
              "    <tr>\n",
              "      <th>15</th>\n",
              "      <td>Timberland PRO Men's Helix 6\" Waterproof Safet...</td>\n",
              "      <td>$142.05</td>\n",
              "      <td>4.5 out of 5 stars</td>\n",
              "      <td>4,431</td>\n",
              "      <td>https://www.amazon.com/Timberland-PRO-Hyperion...</td>\n",
              "    </tr>\n",
              "    <tr>\n",
              "      <th>16</th>\n",
              "      <td>Timberland Davis Square Chukka</td>\n",
              "      <td>$157.49</td>\n",
              "      <td>4.7 out of 5 stars</td>\n",
              "      <td>59</td>\n",
              "      <td>https://www.amazon.com/Timberland-Square-Chukk...</td>\n",
              "    </tr>\n",
              "    <tr>\n",
              "      <th>17</th>\n",
              "      <td>Timberland PRO Men's Powertrain Sport Mid Allo...</td>\n",
              "      <td>$98.93</td>\n",
              "      <td>4.5 out of 5 stars</td>\n",
              "      <td>2,119</td>\n",
              "      <td>https://www.amazon.com/Timberland-PRO-Powertra...</td>\n",
              "    </tr>\n",
              "    <tr>\n",
              "      <th>18</th>\n",
              "      <td>Timberland PRO Men's 6 Inch Boondock Comp Toe ...</td>\n",
              "      <td>$179.95</td>\n",
              "      <td>4.6 out of 5 stars</td>\n",
              "      <td>9,550</td>\n",
              "      <td>https://www.amazon.com/Timberland-PRO-Waterpro...</td>\n",
              "    </tr>\n",
              "    <tr>\n",
              "      <th>19</th>\n",
              "      <td>Timberland PRO Men's Pit Boss 6 Inch Steel Saf...</td>\n",
              "      <td>$112.98</td>\n",
              "      <td>4.5 out of 5 stars</td>\n",
              "      <td>1,892</td>\n",
              "      <td>https://www.amazon.com/Timberland-PRO-Pitboss-...</td>\n",
              "    </tr>\n",
              "    <tr>\n",
              "      <th>20</th>\n",
              "      <td>Timberland Men's Flume Mid Waterproof Hiking Boot</td>\n",
              "      <td>$115.00</td>\n",
              "      <td>4.5 out of 5 stars</td>\n",
              "      <td>6,835</td>\n",
              "      <td>https://www.amazon.com/Timberland-Mens-18128-F...</td>\n",
              "    </tr>\n",
              "    <tr>\n",
              "      <th>21</th>\n",
              "      <td>Timberland Belanger EK+ Waterproof Chukka</td>\n",
              "      <td>n/a</td>\n",
              "      <td>4.7 out of 5 stars</td>\n",
              "      <td>66</td>\n",
              "      <td>https://www.amazon.com/Timberland-Belanger-Wat...</td>\n",
              "    </tr>\n",
              "    <tr>\n",
              "      <th>22</th>\n",
              "      <td>Timberland PRO Men's 6 Inch Rigmaster XT Steel...</td>\n",
              "      <td>$131.98</td>\n",
              "      <td>4.5 out of 5 stars</td>\n",
              "      <td>1,806</td>\n",
              "      <td>https://www.amazon.com/Timberland-PRO-Rigmaste...</td>\n",
              "    </tr>\n",
              "    <tr>\n",
              "      <th>23</th>\n",
              "      <td>Timberland PRO Men's Endurance 6 Inch Steel Sa...</td>\n",
              "      <td>$149.95</td>\n",
              "      <td>4.6 out of 5 stars</td>\n",
              "      <td>2,950</td>\n",
              "      <td>https://www.amazon.com/Timberland-PRO-Enduranc...</td>\n",
              "    </tr>\n",
              "    <tr>\n",
              "      <th>24</th>\n",
              "      <td>Timberland PRO Men's 38mm Boot Leather Belt</td>\n",
              "      <td>$20.00</td>\n",
              "      <td>4.5 out of 5 stars</td>\n",
              "      <td>7,665</td>\n",
              "      <td>https://www.amazon.com/gp/slredirect/picassoRe...</td>\n",
              "    </tr>\n",
              "    <tr>\n",
              "      <th>25</th>\n",
              "      <td>Men's Tactical Boots Lightweight Breathable Mi...</td>\n",
              "      <td>$88.00</td>\n",
              "      <td>4.3 out of 5 stars</td>\n",
              "      <td>190</td>\n",
              "      <td>https://www.amazon.com/gp/slredirect/picassoRe...</td>\n",
              "    </tr>\n",
              "    <tr>\n",
              "      <th>26</th>\n",
              "      <td>Nautica Mens Waterproof Snow, Insulated Duck B...</td>\n",
              "      <td>$54.98</td>\n",
              "      <td>4.3 out of 5 stars</td>\n",
              "      <td>1,916</td>\n",
              "      <td>https://www.amazon.com/gp/slredirect/picassoRe...</td>\n",
              "    </tr>\n",
              "    <tr>\n",
              "      <th>27</th>\n",
              "      <td>Timberland PRO Men's Direct Attach 6 Inch Soft...</td>\n",
              "      <td>n/a</td>\n",
              "      <td>4.6 out of 5 stars</td>\n",
              "      <td>6,830</td>\n",
              "      <td>https://www.amazon.com/Timberland-PRO-Direct-S...</td>\n",
              "    </tr>\n",
              "    <tr>\n",
              "      <th>28</th>\n",
              "      <td>Timberland Richmond Ridge Waterproof Chukka Me...</td>\n",
              "      <td>$143.99</td>\n",
              "      <td>4.7 out of 5 stars</td>\n",
              "      <td>4</td>\n",
              "      <td>https://www.amazon.com/Timberland-Richmond-Wat...</td>\n",
              "    </tr>\n",
              "    <tr>\n",
              "      <th>29</th>\n",
              "      <td>Timberland Garrison Trail Waterproof Mid Hiker</td>\n",
              "      <td>n/a</td>\n",
              "      <td>4.5 out of 5 stars</td>\n",
              "      <td>139</td>\n",
              "      <td>https://www.amazon.com/Timberland-Garrison-Tra...</td>\n",
              "    </tr>\n",
              "    <tr>\n",
              "      <th>30</th>\n",
              "      <td>Timberland PRO Men's Disruptor Chukka Alloy Sa...</td>\n",
              "      <td>$125.00</td>\n",
              "      <td>4.4 out of 5 stars</td>\n",
              "      <td>1,601</td>\n",
              "      <td>https://www.amazon.com/Timberland-PRO-Disrupto...</td>\n",
              "    </tr>\n",
              "    <tr>\n",
              "      <th>31</th>\n",
              "      <td>Timberland Mens Davis Square Chukka Wheat Nubu...</td>\n",
              "      <td>n/a</td>\n",
              "      <td>4.6 out of 5 stars</td>\n",
              "      <td>69</td>\n",
              "      <td>https://www.amazon.com/Timberland-Square-Chukk...</td>\n",
              "    </tr>\n",
              "    <tr>\n",
              "      <th>32</th>\n",
              "      <td>Timberland Men's Icon Premium Waterproof Oxford</td>\n",
              "      <td>n/a</td>\n",
              "      <td>4.5 out of 5 stars</td>\n",
              "      <td>390</td>\n",
              "      <td>https://www.amazon.com/Timberland-Premium-Wate...</td>\n",
              "    </tr>\n",
              "    <tr>\n",
              "      <th>33</th>\n",
              "      <td>Timberland PRO Ridgework Composite Safety Toe ...</td>\n",
              "      <td>$134.95</td>\n",
              "      <td>4.4 out of 5 stars</td>\n",
              "      <td>1,307</td>\n",
              "      <td>https://www.amazon.com/Timberland-PRO-Ridgewor...</td>\n",
              "    </tr>\n",
              "    <tr>\n",
              "      <th>34</th>\n",
              "      <td>Timberland Men's Classic Boot Ankle</td>\n",
              "      <td>n/a</td>\n",
              "      <td>4.6 out of 5 stars</td>\n",
              "      <td>2,299</td>\n",
              "      <td>https://www.amazon.com/Timberland-Basic-Boot-C...</td>\n",
              "    </tr>\n",
              "    <tr>\n",
              "      <th>35</th>\n",
              "      <td>Timberland PRO Men's Titan Oxford Alloy Safety...</td>\n",
              "      <td>$120.00</td>\n",
              "      <td>4.5 out of 5 stars</td>\n",
              "      <td>1,676</td>\n",
              "      <td>https://www.amazon.com/Timberland-PRO-Safety-O...</td>\n",
              "    </tr>\n",
              "    <tr>\n",
              "      <th>36</th>\n",
              "      <td>Timberland PRO Men's Powertrain</td>\n",
              "      <td>$99.95</td>\n",
              "      <td>4.5 out of 5 stars</td>\n",
              "      <td>13,111</td>\n",
              "      <td>https://www.amazon.com/Timberland-PRO-Powertra...</td>\n",
              "    </tr>\n",
              "    <tr>\n",
              "      <th>37</th>\n",
              "      <td>Timberland Mens Davis Square Chukka Wheat Nubu...</td>\n",
              "      <td>n/a</td>\n",
              "      <td>4.6 out of 5 stars</td>\n",
              "      <td>61</td>\n",
              "      <td>https://www.amazon.com/Timberland-Square-Chukk...</td>\n",
              "    </tr>\n",
              "    <tr>\n",
              "      <th>38</th>\n",
              "      <td>Timberland PRO Men's 8\" Rigmaster XT Steel-Toe...</td>\n",
              "      <td>$170.00</td>\n",
              "      <td>4.4 out of 5 stars</td>\n",
              "      <td>1,732</td>\n",
              "      <td>https://www.amazon.com/Timberland-PRO-Rigmaste...</td>\n",
              "    </tr>\n",
              "    <tr>\n",
              "      <th>39</th>\n",
              "      <td>Timberland Men's 6 inch Premium Waterproof Boot</td>\n",
              "      <td>$197.95</td>\n",
              "      <td>4.2 out of 5 stars</td>\n",
              "      <td>48</td>\n",
              "      <td>https://www.amazon.com/Timberland-Classic-Prem...</td>\n",
              "    </tr>\n",
              "    <tr>\n",
              "      <th>40</th>\n",
              "      <td>Timberland PRO Men's Boondock 8\" Composite Toe...</td>\n",
              "      <td>$187.05</td>\n",
              "      <td>4.6 out of 5 stars</td>\n",
              "      <td>780</td>\n",
              "      <td>https://www.amazon.com/Timberland-PRO-Composit...</td>\n",
              "    </tr>\n",
              "    <tr>\n",
              "      <th>41</th>\n",
              "      <td>Timberland PRO Men's Evergreen 8 Inch Composit...</td>\n",
              "      <td>$225.00</td>\n",
              "      <td>4.2 out of 5 stars</td>\n",
              "      <td>3</td>\n",
              "      <td>https://www.amazon.com/Timberland-PRO-Evergree...</td>\n",
              "    </tr>\n",
              "    <tr>\n",
              "      <th>42</th>\n",
              "      <td>Timberland PRO Men's, Titan 6in Alloy Toe Wate...</td>\n",
              "      <td>$155.00</td>\n",
              "      <td>4.5 out of 5 stars</td>\n",
              "      <td>1,278</td>\n",
              "      <td>https://www.amazon.com/Timberland-PRO-26078-Wa...</td>\n",
              "    </tr>\n",
              "    <tr>\n",
              "      <th>43</th>\n",
              "      <td>Timberland Men's Chukka Boots</td>\n",
              "      <td>n/a</td>\n",
              "      <td>4.6 out of 5 stars</td>\n",
              "      <td>1,068</td>\n",
              "      <td>https://www.amazon.com/Timberland-Sprint-Hiker...</td>\n",
              "    </tr>\n",
              "    <tr>\n",
              "      <th>44</th>\n",
              "      <td>Timberland PRO Men's Direct Attach 6 Inch Stee...</td>\n",
              "      <td>$121.85</td>\n",
              "      <td>4.5 out of 5 stars</td>\n",
              "      <td>5,489</td>\n",
              "      <td>https://www.amazon.com/Timberland-PRO-26038-Di...</td>\n",
              "    </tr>\n",
              "    <tr>\n",
              "      <th>45</th>\n",
              "      <td>Timberland Raywood EK+ 6\" Boot</td>\n",
              "      <td>n/a</td>\n",
              "      <td>5.0 out of 5 stars</td>\n",
              "      <td>4</td>\n",
              "      <td>https://www.amazon.com/Timberland-Raywood-Boot...</td>\n",
              "    </tr>\n",
              "    <tr>\n",
              "      <th>46</th>\n",
              "      <td>Mens Timberland Earthkeepers Stormbuck Chelsea...</td>\n",
              "      <td>n/a</td>\n",
              "      <td>4.4 out of 5 stars</td>\n",
              "      <td>597</td>\n",
              "      <td>https://www.amazon.com/Timberland-Earthkeepers...</td>\n",
              "    </tr>\n",
              "    <tr>\n",
              "      <th>47</th>\n",
              "      <td>Timberland Men's Graydon Sneaker Boot</td>\n",
              "      <td>n/a</td>\n",
              "      <td>4.6 out of 5 stars</td>\n",
              "      <td>965</td>\n",
              "      <td>https://www.amazon.com/Timberland-Graydon-Leat...</td>\n",
              "    </tr>\n",
              "    <tr>\n",
              "      <th>48</th>\n",
              "      <td>Timberland PRO Men's Gravel Pit 10\" Steel-Toe ...</td>\n",
              "      <td>n/a</td>\n",
              "      <td>4.5 out of 5 stars</td>\n",
              "      <td>506</td>\n",
              "      <td>https://www.amazon.com/Timberland-PRO-53531-Gr...</td>\n",
              "    </tr>\n",
              "    <tr>\n",
              "      <th>49</th>\n",
              "      <td>Timberland PRO Men's Drivetrain Mid Composite ...</td>\n",
              "      <td>$115.00</td>\n",
              "      <td>4.4 out of 5 stars</td>\n",
              "      <td>2,340</td>\n",
              "      <td>https://www.amazon.com/Timberland-PRO-Drivetra...</td>\n",
              "    </tr>\n",
              "    <tr>\n",
              "      <th>50</th>\n",
              "      <td>Timberland Men's Classic 6\" Premium Boot</td>\n",
              "      <td>$249.00</td>\n",
              "      <td>4.5 out of 5 stars</td>\n",
              "      <td>917</td>\n",
              "      <td>https://www.amazon.com/Timberland-Mens-Classic...</td>\n",
              "    </tr>\n",
              "    <tr>\n",
              "      <th>51</th>\n",
              "      <td>Men Fashion Leather Waterproof Ankle Bootie Ca...</td>\n",
              "      <td>$45.99</td>\n",
              "      <td>3.9 out of 5 stars</td>\n",
              "      <td>61</td>\n",
              "      <td>https://www.amazon.com/gp/slredirect/picassoRe...</td>\n",
              "    </tr>\n",
              "    <tr>\n",
              "      <th>52</th>\n",
              "      <td>ROCKROOSTER Men's Comfortable Work Boots Non-S...</td>\n",
              "      <td>$109.99</td>\n",
              "      <td>4.3 out of 5 stars</td>\n",
              "      <td>882</td>\n",
              "      <td>https://www.amazon.com/gp/slredirect/picassoRe...</td>\n",
              "    </tr>\n",
              "    <tr>\n",
              "      <th>53</th>\n",
              "      <td>Vostey Men's Motorcycle Boots Business Casual ...</td>\n",
              "      <td>$42.49</td>\n",
              "      <td>4.3 out of 5 stars</td>\n",
              "      <td>3,145</td>\n",
              "      <td>https://www.amazon.com/gp/slredirect/picassoRe...</td>\n",
              "    </tr>\n",
              "    <tr>\n",
              "      <th>54</th>\n",
              "      <td>Jacata Men's Soft Toe Leather Non-Slip Work Sh...</td>\n",
              "      <td>$69.99</td>\n",
              "      <td>4.4 out of 5 stars</td>\n",
              "      <td>45</td>\n",
              "      <td>https://www.amazon.com/gp/slredirect/picassoRe...</td>\n",
              "    </tr>\n",
              "    <tr>\n",
              "      <th>55</th>\n",
              "      <td>Golden Fox Men's Leather Wellington Farm &amp; Con...</td>\n",
              "      <td>$109.00</td>\n",
              "      <td>4.2 out of 5 stars</td>\n",
              "      <td>126</td>\n",
              "      <td>https://www.amazon.com/gp/slredirect/picassoRe...</td>\n",
              "    </tr>\n",
              "    <tr>\n",
              "      <th>56</th>\n",
              "      <td>Wantdo Men's Waterproof Winter Boots Non-Slip ...</td>\n",
              "      <td>$62.99</td>\n",
              "      <td>4.2 out of 5 stars</td>\n",
              "      <td>80</td>\n",
              "      <td>https://www.amazon.com/gp/slredirect/picassoRe...</td>\n",
              "    </tr>\n",
              "  </tbody>\n",
              "</table>\n",
              "</div>\n",
              "      <button class=\"colab-df-convert\" onclick=\"convertToInteractive('df-1aed2548-5a38-4853-81f9-6a92b6fa7ce6')\"\n",
              "              title=\"Convert this dataframe to an interactive table.\"\n",
              "              style=\"display:none;\">\n",
              "        \n",
              "  <svg xmlns=\"http://www.w3.org/2000/svg\" height=\"24px\"viewBox=\"0 0 24 24\"\n",
              "       width=\"24px\">\n",
              "    <path d=\"M0 0h24v24H0V0z\" fill=\"none\"/>\n",
              "    <path d=\"M18.56 5.44l.94 2.06.94-2.06 2.06-.94-2.06-.94-.94-2.06-.94 2.06-2.06.94zm-11 1L8.5 8.5l.94-2.06 2.06-.94-2.06-.94L8.5 2.5l-.94 2.06-2.06.94zm10 10l.94 2.06.94-2.06 2.06-.94-2.06-.94-.94-2.06-.94 2.06-2.06.94z\"/><path d=\"M17.41 7.96l-1.37-1.37c-.4-.4-.92-.59-1.43-.59-.52 0-1.04.2-1.43.59L10.3 9.45l-7.72 7.72c-.78.78-.78 2.05 0 2.83L4 21.41c.39.39.9.59 1.41.59.51 0 1.02-.2 1.41-.59l7.78-7.78 2.81-2.81c.8-.78.8-2.07 0-2.86zM5.41 20L4 18.59l7.72-7.72 1.47 1.35L5.41 20z\"/>\n",
              "  </svg>\n",
              "      </button>\n",
              "      \n",
              "  <style>\n",
              "    .colab-df-container {\n",
              "      display:flex;\n",
              "      flex-wrap:wrap;\n",
              "      gap: 12px;\n",
              "    }\n",
              "\n",
              "    .colab-df-convert {\n",
              "      background-color: #E8F0FE;\n",
              "      border: none;\n",
              "      border-radius: 50%;\n",
              "      cursor: pointer;\n",
              "      display: none;\n",
              "      fill: #1967D2;\n",
              "      height: 32px;\n",
              "      padding: 0 0 0 0;\n",
              "      width: 32px;\n",
              "    }\n",
              "\n",
              "    .colab-df-convert:hover {\n",
              "      background-color: #E2EBFA;\n",
              "      box-shadow: 0px 1px 2px rgba(60, 64, 67, 0.3), 0px 1px 3px 1px rgba(60, 64, 67, 0.15);\n",
              "      fill: #174EA6;\n",
              "    }\n",
              "\n",
              "    [theme=dark] .colab-df-convert {\n",
              "      background-color: #3B4455;\n",
              "      fill: #D2E3FC;\n",
              "    }\n",
              "\n",
              "    [theme=dark] .colab-df-convert:hover {\n",
              "      background-color: #434B5C;\n",
              "      box-shadow: 0px 1px 3px 1px rgba(0, 0, 0, 0.15);\n",
              "      filter: drop-shadow(0px 1px 2px rgba(0, 0, 0, 0.3));\n",
              "      fill: #FFFFFF;\n",
              "    }\n",
              "  </style>\n",
              "\n",
              "      <script>\n",
              "        const buttonEl =\n",
              "          document.querySelector('#df-1aed2548-5a38-4853-81f9-6a92b6fa7ce6 button.colab-df-convert');\n",
              "        buttonEl.style.display =\n",
              "          google.colab.kernel.accessAllowed ? 'block' : 'none';\n",
              "\n",
              "        async function convertToInteractive(key) {\n",
              "          const element = document.querySelector('#df-1aed2548-5a38-4853-81f9-6a92b6fa7ce6');\n",
              "          const dataTable =\n",
              "            await google.colab.kernel.invokeFunction('convertToInteractive',\n",
              "                                                     [key], {});\n",
              "          if (!dataTable) return;\n",
              "\n",
              "          const docLinkHtml = 'Like what you see? Visit the ' +\n",
              "            '<a target=\"_blank\" href=https://colab.research.google.com/notebooks/data_table.ipynb>data table notebook</a>'\n",
              "            + ' to learn more about interactive tables.';\n",
              "          element.innerHTML = '';\n",
              "          dataTable['output_type'] = 'display_data';\n",
              "          await google.colab.output.renderOutput(dataTable, element);\n",
              "          const docLink = document.createElement('div');\n",
              "          docLink.innerHTML = docLinkHtml;\n",
              "          element.appendChild(docLink);\n",
              "        }\n",
              "      </script>\n",
              "    </div>\n",
              "  </div>\n",
              "  "
            ],
            "text/plain": [
              "                                                 Name  ...                                               Link\n",
              "0   Timberland Men's White Ledge Mid Waterproof Hi...  ...  https://www.amazon.com/Timberland-White-Ledge-...\n",
              "1     Timberland Men's 6-Inch Premium Waterproof Boot  ...  https://www.amazon.com/Timberland-Classic-Prem...\n",
              "2   Timberland PRO Men's Pit Boss 6 Inch Steel Saf...  ...  https://www.amazon.com/Timberland-PRO-Pitboss-...\n",
              "3                 Timberland Men's Ankle Chukka Boots  ...  https://www.amazon.com/Timberland-Ankle-Chukka...\n",
              "4   Timberland Men's Anti-Fatigue Hiking Waterproo...  ...  https://www.amazon.com/Timberland-Mens-Maddsen...\n",
              "5   Timberland PRO Men's Pit Boss 6 Inch Soft Toe ...  ...  https://www.amazon.com/Timberland-PRO-Pitboss-...\n",
              "6        Timberland Men's Earthkeepers Rugged 6\" Boot  ...  https://www.amazon.com/Timberland-Earthkeepers...\n",
              "7               Timberland Men's Earthkeepers 6\" Boot  ...  https://www.amazon.com/Timberland-Earthkeepers...\n",
              "8          Timberland mens White Ledge Mid Waterproof  ...  https://www.amazon.com/Timberland-White-Ledge-...\n",
              "9   Timberland PRO Men's 26011 Direct Attach 8\" So...  ...  https://www.amazon.com/Timberland-PRO-Direct-A...\n",
              "10     Timberland Men's 6 in Double Collar Boot Ankle  ...  https://www.amazon.com/Timberland-Double-Colla...\n",
              "11  Timberland PRO Men's Direct Attach 8 Inch Stee...  ...  https://www.amazon.com/Timberland-PRO-Direct-A...\n",
              "12  Timberland Men's Chocorua Trail Mid Waterproof...  ...  https://www.amazon.com/Timberland-Chocorua-Tra...\n",
              "13            Timberland PRO Men's Wedge Sole 6\" Boot  ...  https://www.amazon.com/Timberland-PRO-53009-We...\n",
              "14  Timberland PRO mens Gridworks 6 Inch Soft Toe ...  ...  https://www.amazon.com/Timberland-PRO-Gridwork...\n",
              "15  Timberland PRO Men's Helix 6\" Waterproof Safet...  ...  https://www.amazon.com/Timberland-PRO-Hyperion...\n",
              "16                     Timberland Davis Square Chukka  ...  https://www.amazon.com/Timberland-Square-Chukk...\n",
              "17  Timberland PRO Men's Powertrain Sport Mid Allo...  ...  https://www.amazon.com/Timberland-PRO-Powertra...\n",
              "18  Timberland PRO Men's 6 Inch Boondock Comp Toe ...  ...  https://www.amazon.com/Timberland-PRO-Waterpro...\n",
              "19  Timberland PRO Men's Pit Boss 6 Inch Steel Saf...  ...  https://www.amazon.com/Timberland-PRO-Pitboss-...\n",
              "20  Timberland Men's Flume Mid Waterproof Hiking Boot  ...  https://www.amazon.com/Timberland-Mens-18128-F...\n",
              "21          Timberland Belanger EK+ Waterproof Chukka  ...  https://www.amazon.com/Timberland-Belanger-Wat...\n",
              "22  Timberland PRO Men's 6 Inch Rigmaster XT Steel...  ...  https://www.amazon.com/Timberland-PRO-Rigmaste...\n",
              "23  Timberland PRO Men's Endurance 6 Inch Steel Sa...  ...  https://www.amazon.com/Timberland-PRO-Enduranc...\n",
              "24        Timberland PRO Men's 38mm Boot Leather Belt  ...  https://www.amazon.com/gp/slredirect/picassoRe...\n",
              "25  Men's Tactical Boots Lightweight Breathable Mi...  ...  https://www.amazon.com/gp/slredirect/picassoRe...\n",
              "26  Nautica Mens Waterproof Snow, Insulated Duck B...  ...  https://www.amazon.com/gp/slredirect/picassoRe...\n",
              "27  Timberland PRO Men's Direct Attach 6 Inch Soft...  ...  https://www.amazon.com/Timberland-PRO-Direct-S...\n",
              "28  Timberland Richmond Ridge Waterproof Chukka Me...  ...  https://www.amazon.com/Timberland-Richmond-Wat...\n",
              "29     Timberland Garrison Trail Waterproof Mid Hiker  ...  https://www.amazon.com/Timberland-Garrison-Tra...\n",
              "30  Timberland PRO Men's Disruptor Chukka Alloy Sa...  ...  https://www.amazon.com/Timberland-PRO-Disrupto...\n",
              "31  Timberland Mens Davis Square Chukka Wheat Nubu...  ...  https://www.amazon.com/Timberland-Square-Chukk...\n",
              "32    Timberland Men's Icon Premium Waterproof Oxford  ...  https://www.amazon.com/Timberland-Premium-Wate...\n",
              "33  Timberland PRO Ridgework Composite Safety Toe ...  ...  https://www.amazon.com/Timberland-PRO-Ridgewor...\n",
              "34                Timberland Men's Classic Boot Ankle  ...  https://www.amazon.com/Timberland-Basic-Boot-C...\n",
              "35  Timberland PRO Men's Titan Oxford Alloy Safety...  ...  https://www.amazon.com/Timberland-PRO-Safety-O...\n",
              "36                    Timberland PRO Men's Powertrain  ...  https://www.amazon.com/Timberland-PRO-Powertra...\n",
              "37  Timberland Mens Davis Square Chukka Wheat Nubu...  ...  https://www.amazon.com/Timberland-Square-Chukk...\n",
              "38  Timberland PRO Men's 8\" Rigmaster XT Steel-Toe...  ...  https://www.amazon.com/Timberland-PRO-Rigmaste...\n",
              "39    Timberland Men's 6 inch Premium Waterproof Boot  ...  https://www.amazon.com/Timberland-Classic-Prem...\n",
              "40  Timberland PRO Men's Boondock 8\" Composite Toe...  ...  https://www.amazon.com/Timberland-PRO-Composit...\n",
              "41  Timberland PRO Men's Evergreen 8 Inch Composit...  ...  https://www.amazon.com/Timberland-PRO-Evergree...\n",
              "42  Timberland PRO Men's, Titan 6in Alloy Toe Wate...  ...  https://www.amazon.com/Timberland-PRO-26078-Wa...\n",
              "43                      Timberland Men's Chukka Boots  ...  https://www.amazon.com/Timberland-Sprint-Hiker...\n",
              "44  Timberland PRO Men's Direct Attach 6 Inch Stee...  ...  https://www.amazon.com/Timberland-PRO-26038-Di...\n",
              "45                     Timberland Raywood EK+ 6\" Boot  ...  https://www.amazon.com/Timberland-Raywood-Boot...\n",
              "46  Mens Timberland Earthkeepers Stormbuck Chelsea...  ...  https://www.amazon.com/Timberland-Earthkeepers...\n",
              "47              Timberland Men's Graydon Sneaker Boot  ...  https://www.amazon.com/Timberland-Graydon-Leat...\n",
              "48  Timberland PRO Men's Gravel Pit 10\" Steel-Toe ...  ...  https://www.amazon.com/Timberland-PRO-53531-Gr...\n",
              "49  Timberland PRO Men's Drivetrain Mid Composite ...  ...  https://www.amazon.com/Timberland-PRO-Drivetra...\n",
              "50           Timberland Men's Classic 6\" Premium Boot  ...  https://www.amazon.com/Timberland-Mens-Classic...\n",
              "51  Men Fashion Leather Waterproof Ankle Bootie Ca...  ...  https://www.amazon.com/gp/slredirect/picassoRe...\n",
              "52  ROCKROOSTER Men's Comfortable Work Boots Non-S...  ...  https://www.amazon.com/gp/slredirect/picassoRe...\n",
              "53  Vostey Men's Motorcycle Boots Business Casual ...  ...  https://www.amazon.com/gp/slredirect/picassoRe...\n",
              "54  Jacata Men's Soft Toe Leather Non-Slip Work Sh...  ...  https://www.amazon.com/gp/slredirect/picassoRe...\n",
              "55  Golden Fox Men's Leather Wellington Farm & Con...  ...  https://www.amazon.com/gp/slredirect/picassoRe...\n",
              "56  Wantdo Men's Waterproof Winter Boots Non-Slip ...  ...  https://www.amazon.com/gp/slredirect/picassoRe...\n",
              "\n",
              "[57 rows x 5 columns]"
            ]
          },
          "metadata": {},
          "execution_count": 171
        }
      ]
    },
    {
      "cell_type": "markdown",
      "source": [
        "##Output in Excel"
      ],
      "metadata": {
        "id": "gWTxe81aYmCC"
      }
    },
    {
      "cell_type": "code",
      "source": [
        "product_overview.to_csv('Timberland_.csv', index=False)"
      ],
      "metadata": {
        "id": "OYSxl3IQYtDZ"
      },
      "execution_count": 174,
      "outputs": []
    },
    {
      "cell_type": "markdown",
      "source": [
        "##Pagination (All Pages)"
      ],
      "metadata": {
        "id": "5APrFAM4Zh5T"
      }
    },
    {
      "cell_type": "code",
      "source": [
        "product_name = []\n",
        "product_price = []\n",
        "review_rating = []\n",
        "review_count = []\n",
        "relative_url = []\n",
        "\n",
        "for i in range (1,8):\n",
        "    #To avoid a 503 error, headers is required (exclusive to Amazon)\n",
        "    HEADERS = ({'User-Agent':\n",
        "                'Mozilla/5.0 (Windows NT 10.0; Win64; x64) \\\n",
        "                AppleWebKit/537.36 (KHTML, like Gecko) \\\n",
        "                Chrome/90.0.4430.212 Safari/537.36',\n",
        "                'Accept-Language': 'en-US, en;q=0.5'})\n",
        "    # website in variable\n",
        "    website = 'https://www.amazon.com/s?k=timberland+boots+for+men&crid=DPMBRVEUI1YS&sprefix=timberland%2Caps%2C283&ref=nb_sb_ss_ts-doa-p_' + str(i)\n",
        "    \n",
        "    # request\n",
        "    response = requests.get(website, headers = HEADERS)\n",
        "    \n",
        "    # soup object\n",
        "    soup = BeautifulSoup(response.content, 'html.parser')\n",
        "    \n",
        "    # results\n",
        "    results = soup.find_all('div', {'data-component-type':'s-search-result'})\n",
        "    \n",
        "    # loop through results\n",
        "    for result in results:\n",
        "\n",
        "            # name\n",
        "            try:\n",
        "                product_name.append(result.find('span', {'class':'a-size-base-plus a-color-base a-text-normal'}).get_text()) \n",
        "            except:\n",
        "                product_name.append('n/a')\n",
        "            \n",
        "            # price\n",
        "            try:\n",
        "                product_price.append(result.find('span', {'class':'a-offscreen'}).get_text())\n",
        "            except:\n",
        "                product_price.append('n/a')\n",
        "            \n",
        "            # review rating\n",
        "            try:\n",
        "                review_rating.append(result.find('span', {'class':'a-icon-alt'}).get_text())\n",
        "            except:\n",
        "                review_rating.append('n/a')\n",
        "                \n",
        "            # review count\n",
        "            try:\n",
        "                review_count.append(result.find('span', {'class':'a-size-base a-color-base s-underline-text'}).get_text())\n",
        "            except:\n",
        "                review_count.append('n/a')\n",
        "            \n",
        "            # relative URL\n",
        "            try:\n",
        "                relative_url.append(result.find('a', {'class':'a-link-normal s-no-outline'}).get('href'))\n",
        "            except:\n",
        "                relative_url.append('n/a')"
      ],
      "metadata": {
        "id": "ALxRoWReZsum"
      },
      "execution_count": 194,
      "outputs": []
    },
    {
      "cell_type": "code",
      "source": [
        "url_combined = []\n",
        "\n",
        "for link in relative_url:\n",
        "    url_combined.append(urllib.parse.urljoin(root_url, link))"
      ],
      "metadata": {
        "id": "HOBe1W0fa9qv"
      },
      "execution_count": 196,
      "outputs": []
    },
    {
      "cell_type": "code",
      "source": [
        "product_overview = pd.DataFrame({'Name':product_name, 'Price':product_price, 'Rating':review_rating,\n",
        "                                'Review Count':review_count, 'Link':url_combined})"
      ],
      "metadata": {
        "id": "qoSb5hEma_UE"
      },
      "execution_count": 197,
      "outputs": []
    },
    {
      "cell_type": "code",
      "source": [
        "product_overview"
      ],
      "metadata": {
        "colab": {
          "base_uri": "https://localhost:8080/",
          "height": 423
        },
        "id": "zO6FvStXbIo8",
        "outputId": "799a7c66-f902-415b-a6de-7b5f1473be2c"
      },
      "execution_count": 198,
      "outputs": [
        {
          "output_type": "execute_result",
          "data": {
            "text/html": [
              "\n",
              "  <div id=\"df-bdaca864-5417-4ba1-acb0-63976d06d963\">\n",
              "    <div class=\"colab-df-container\">\n",
              "      <div>\n",
              "<style scoped>\n",
              "    .dataframe tbody tr th:only-of-type {\n",
              "        vertical-align: middle;\n",
              "    }\n",
              "\n",
              "    .dataframe tbody tr th {\n",
              "        vertical-align: top;\n",
              "    }\n",
              "\n",
              "    .dataframe thead th {\n",
              "        text-align: right;\n",
              "    }\n",
              "</style>\n",
              "<table border=\"1\" class=\"dataframe\">\n",
              "  <thead>\n",
              "    <tr style=\"text-align: right;\">\n",
              "      <th></th>\n",
              "      <th>Name</th>\n",
              "      <th>Price</th>\n",
              "      <th>Rating</th>\n",
              "      <th>Review Count</th>\n",
              "      <th>Link</th>\n",
              "    </tr>\n",
              "  </thead>\n",
              "  <tbody>\n",
              "    <tr>\n",
              "      <th>0</th>\n",
              "      <td>Timberland Men's White Ledge Mid Waterproof Hi...</td>\n",
              "      <td>$90.12</td>\n",
              "      <td>4.5 out of 5 stars</td>\n",
              "      <td>43,664</td>\n",
              "      <td>https://www.amazon.com/Timberland-White-Ledge-...</td>\n",
              "    </tr>\n",
              "    <tr>\n",
              "      <th>1</th>\n",
              "      <td>Timberland PRO Men's Pit Boss 6 Inch Steel Saf...</td>\n",
              "      <td>$102.69</td>\n",
              "      <td>4.4 out of 5 stars</td>\n",
              "      <td>15,520</td>\n",
              "      <td>https://www.amazon.com/Timberland-PRO-Pitboss-...</td>\n",
              "    </tr>\n",
              "    <tr>\n",
              "      <th>2</th>\n",
              "      <td>Timberland Men's 6-Inch Premium Waterproof Boot</td>\n",
              "      <td>n/a</td>\n",
              "      <td>4.6 out of 5 stars</td>\n",
              "      <td>14,408</td>\n",
              "      <td>https://www.amazon.com/Timberland-Classic-Prem...</td>\n",
              "    </tr>\n",
              "    <tr>\n",
              "      <th>3</th>\n",
              "      <td>Timberland PRO Men's Pit Boss 6 Inch Soft Toe ...</td>\n",
              "      <td>$98.56</td>\n",
              "      <td>4.5 out of 5 stars</td>\n",
              "      <td>7,497</td>\n",
              "      <td>https://www.amazon.com/Timberland-PRO-Pitboss-...</td>\n",
              "    </tr>\n",
              "    <tr>\n",
              "      <th>4</th>\n",
              "      <td>Timberland Men's Ankle Chukka Boots</td>\n",
              "      <td>$246.07</td>\n",
              "      <td>4.6 out of 5 stars</td>\n",
              "      <td>2,696</td>\n",
              "      <td>https://www.amazon.com/Timberland-Ankle-Chukka...</td>\n",
              "    </tr>\n",
              "    <tr>\n",
              "      <th>...</th>\n",
              "      <td>...</td>\n",
              "      <td>...</td>\n",
              "      <td>...</td>\n",
              "      <td>...</td>\n",
              "      <td>...</td>\n",
              "    </tr>\n",
              "    <tr>\n",
              "      <th>395</th>\n",
              "      <td>Vostey Men's Motorcycle Boots Business Casual ...</td>\n",
              "      <td>$42.49</td>\n",
              "      <td>4.3 out of 5 stars</td>\n",
              "      <td>3,145</td>\n",
              "      <td>https://www.amazon.com/gp/slredirect/picassoRe...</td>\n",
              "    </tr>\n",
              "    <tr>\n",
              "      <th>396</th>\n",
              "      <td>Golden Fox Men's Leather Wellington Farm &amp; Con...</td>\n",
              "      <td>$109.00</td>\n",
              "      <td>4.2 out of 5 stars</td>\n",
              "      <td>126</td>\n",
              "      <td>https://www.amazon.com/gp/slredirect/picassoRe...</td>\n",
              "    </tr>\n",
              "    <tr>\n",
              "      <th>397</th>\n",
              "      <td>Mens Leather Waterproof Snow Boots，Ankle Boots...</td>\n",
              "      <td>$59.99</td>\n",
              "      <td>4.1 out of 5 stars</td>\n",
              "      <td>4</td>\n",
              "      <td>https://www.amazon.com/gp/slredirect/picassoRe...</td>\n",
              "    </tr>\n",
              "    <tr>\n",
              "      <th>398</th>\n",
              "      <td>Men's Snow Boots Chukka Casual Boot - Hiking W...</td>\n",
              "      <td>$49.99</td>\n",
              "      <td>4.1 out of 5 stars</td>\n",
              "      <td>136</td>\n",
              "      <td>https://www.amazon.com/gp/slredirect/picassoRe...</td>\n",
              "    </tr>\n",
              "    <tr>\n",
              "      <th>399</th>\n",
              "      <td>Kodiak Men's 8-Inch McKinney Soft Toe Waterpro...</td>\n",
              "      <td>$159.99</td>\n",
              "      <td>4.3 out of 5 stars</td>\n",
              "      <td>26</td>\n",
              "      <td>https://www.amazon.com/gp/slredirect/picassoRe...</td>\n",
              "    </tr>\n",
              "  </tbody>\n",
              "</table>\n",
              "<p>400 rows × 5 columns</p>\n",
              "</div>\n",
              "      <button class=\"colab-df-convert\" onclick=\"convertToInteractive('df-bdaca864-5417-4ba1-acb0-63976d06d963')\"\n",
              "              title=\"Convert this dataframe to an interactive table.\"\n",
              "              style=\"display:none;\">\n",
              "        \n",
              "  <svg xmlns=\"http://www.w3.org/2000/svg\" height=\"24px\"viewBox=\"0 0 24 24\"\n",
              "       width=\"24px\">\n",
              "    <path d=\"M0 0h24v24H0V0z\" fill=\"none\"/>\n",
              "    <path d=\"M18.56 5.44l.94 2.06.94-2.06 2.06-.94-2.06-.94-.94-2.06-.94 2.06-2.06.94zm-11 1L8.5 8.5l.94-2.06 2.06-.94-2.06-.94L8.5 2.5l-.94 2.06-2.06.94zm10 10l.94 2.06.94-2.06 2.06-.94-2.06-.94-.94-2.06-.94 2.06-2.06.94z\"/><path d=\"M17.41 7.96l-1.37-1.37c-.4-.4-.92-.59-1.43-.59-.52 0-1.04.2-1.43.59L10.3 9.45l-7.72 7.72c-.78.78-.78 2.05 0 2.83L4 21.41c.39.39.9.59 1.41.59.51 0 1.02-.2 1.41-.59l7.78-7.78 2.81-2.81c.8-.78.8-2.07 0-2.86zM5.41 20L4 18.59l7.72-7.72 1.47 1.35L5.41 20z\"/>\n",
              "  </svg>\n",
              "      </button>\n",
              "      \n",
              "  <style>\n",
              "    .colab-df-container {\n",
              "      display:flex;\n",
              "      flex-wrap:wrap;\n",
              "      gap: 12px;\n",
              "    }\n",
              "\n",
              "    .colab-df-convert {\n",
              "      background-color: #E8F0FE;\n",
              "      border: none;\n",
              "      border-radius: 50%;\n",
              "      cursor: pointer;\n",
              "      display: none;\n",
              "      fill: #1967D2;\n",
              "      height: 32px;\n",
              "      padding: 0 0 0 0;\n",
              "      width: 32px;\n",
              "    }\n",
              "\n",
              "    .colab-df-convert:hover {\n",
              "      background-color: #E2EBFA;\n",
              "      box-shadow: 0px 1px 2px rgba(60, 64, 67, 0.3), 0px 1px 3px 1px rgba(60, 64, 67, 0.15);\n",
              "      fill: #174EA6;\n",
              "    }\n",
              "\n",
              "    [theme=dark] .colab-df-convert {\n",
              "      background-color: #3B4455;\n",
              "      fill: #D2E3FC;\n",
              "    }\n",
              "\n",
              "    [theme=dark] .colab-df-convert:hover {\n",
              "      background-color: #434B5C;\n",
              "      box-shadow: 0px 1px 3px 1px rgba(0, 0, 0, 0.15);\n",
              "      filter: drop-shadow(0px 1px 2px rgba(0, 0, 0, 0.3));\n",
              "      fill: #FFFFFF;\n",
              "    }\n",
              "  </style>\n",
              "\n",
              "      <script>\n",
              "        const buttonEl =\n",
              "          document.querySelector('#df-bdaca864-5417-4ba1-acb0-63976d06d963 button.colab-df-convert');\n",
              "        buttonEl.style.display =\n",
              "          google.colab.kernel.accessAllowed ? 'block' : 'none';\n",
              "\n",
              "        async function convertToInteractive(key) {\n",
              "          const element = document.querySelector('#df-bdaca864-5417-4ba1-acb0-63976d06d963');\n",
              "          const dataTable =\n",
              "            await google.colab.kernel.invokeFunction('convertToInteractive',\n",
              "                                                     [key], {});\n",
              "          if (!dataTable) return;\n",
              "\n",
              "          const docLinkHtml = 'Like what you see? Visit the ' +\n",
              "            '<a target=\"_blank\" href=https://colab.research.google.com/notebooks/data_table.ipynb>data table notebook</a>'\n",
              "            + ' to learn more about interactive tables.';\n",
              "          element.innerHTML = '';\n",
              "          dataTable['output_type'] = 'display_data';\n",
              "          await google.colab.output.renderOutput(dataTable, element);\n",
              "          const docLink = document.createElement('div');\n",
              "          docLink.innerHTML = docLinkHtml;\n",
              "          element.appendChild(docLink);\n",
              "        }\n",
              "      </script>\n",
              "    </div>\n",
              "  </div>\n",
              "  "
            ],
            "text/plain": [
              "                                                  Name  ...                                               Link\n",
              "0    Timberland Men's White Ledge Mid Waterproof Hi...  ...  https://www.amazon.com/Timberland-White-Ledge-...\n",
              "1    Timberland PRO Men's Pit Boss 6 Inch Steel Saf...  ...  https://www.amazon.com/Timberland-PRO-Pitboss-...\n",
              "2      Timberland Men's 6-Inch Premium Waterproof Boot  ...  https://www.amazon.com/Timberland-Classic-Prem...\n",
              "3    Timberland PRO Men's Pit Boss 6 Inch Soft Toe ...  ...  https://www.amazon.com/Timberland-PRO-Pitboss-...\n",
              "4                  Timberland Men's Ankle Chukka Boots  ...  https://www.amazon.com/Timberland-Ankle-Chukka...\n",
              "..                                                 ...  ...                                                ...\n",
              "395  Vostey Men's Motorcycle Boots Business Casual ...  ...  https://www.amazon.com/gp/slredirect/picassoRe...\n",
              "396  Golden Fox Men's Leather Wellington Farm & Con...  ...  https://www.amazon.com/gp/slredirect/picassoRe...\n",
              "397  Mens Leather Waterproof Snow Boots，Ankle Boots...  ...  https://www.amazon.com/gp/slredirect/picassoRe...\n",
              "398  Men's Snow Boots Chukka Casual Boot - Hiking W...  ...  https://www.amazon.com/gp/slredirect/picassoRe...\n",
              "399  Kodiak Men's 8-Inch McKinney Soft Toe Waterpro...  ...  https://www.amazon.com/gp/slredirect/picassoRe...\n",
              "\n",
              "[400 rows x 5 columns]"
            ]
          },
          "metadata": {},
          "execution_count": 198
        }
      ]
    },
    {
      "cell_type": "markdown",
      "source": [
        "##Excel Output"
      ],
      "metadata": {
        "id": "OGP6pmhQbTQc"
      }
    },
    {
      "cell_type": "code",
      "source": [
        "product_overview.to_csv('Timberland_Full.csv', index=False)"
      ],
      "metadata": {
        "id": "jkvLgzh2bVuL"
      },
      "execution_count": 199,
      "outputs": []
    }
  ]
}